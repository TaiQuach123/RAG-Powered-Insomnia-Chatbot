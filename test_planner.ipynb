{
 "cells": [
  {
   "cell_type": "code",
   "execution_count": 1,
   "metadata": {},
   "outputs": [
    {
     "name": "stderr",
     "output_type": "stream",
     "text": [
      "/home/taiquach123471/anaconda3/envs/insomnia_chatbot_v2/lib/python3.11/site-packages/tqdm/auto.py:21: TqdmWarning: IProgress not found. Please update jupyter and ipywidgets. See https://ipywidgets.readthedocs.io/en/stable/user_install.html\n",
      "  from .autonotebook import tqdm as notebook_tqdm\n"
     ]
    },
    {
     "data": {
      "text/plain": [
       "True"
      ]
     },
     "execution_count": 1,
     "metadata": {},
     "output_type": "execute_result"
    }
   ],
   "source": [
    "import functools\n",
    "\n",
    "from qdrant_client import QdrantClient\n",
    "\n",
    "from langchain_groq import ChatGroq\n",
    "from langgraph.graph import START, END, StateGraph\n",
    "from langgraph.checkpoint.memory import MemorySaver\n",
    "\n",
    "import torch\n",
    "from transformers import AutoModel\n",
    "from FlagEmbedding import BGEM3FlagModel\n",
    "\n",
    "from RAGModule.retrieve import retrieve_relevant_chunks\n",
    "\n",
    "from GraphModule.chains import query_analyzer_chain, rewriter_chain, responder_chain\n",
    "from GraphModule.pydantic_models import State\n",
    "from GraphModule.nodes import *\n",
    "from GraphModule.routes import *\n",
    "\n",
    "from llm_compiler.utils import *\n",
    "from llm_compiler.runnables import *\n",
    "from llm_compiler.prompts import llm_compiler_prompt, joiner_prompt\n",
    "from llm_compiler.pydantic_models import JoinOutputs\n",
    "\n",
    "torch.set_grad_enabled(False)\n",
    "\n",
    "from dotenv import load_dotenv\n",
    "load_dotenv()"
   ]
  },
  {
   "cell_type": "code",
   "execution_count": 2,
   "metadata": {},
   "outputs": [
    {
     "name": "stderr",
     "output_type": "stream",
     "text": [
      "Fetching 30 files: 100%|██████████| 30/30 [00:00<00:00, 119495.84it/s]\n",
      "/home/taiquach123471/anaconda3/envs/insomnia_chatbot_v2/lib/python3.11/site-packages/FlagEmbedding/BGE_M3/modeling.py:335: FutureWarning: You are using `torch.load` with `weights_only=False` (the current default value), which uses the default pickle module implicitly. It is possible to construct malicious pickle data which will execute arbitrary code during unpickling (See https://github.com/pytorch/pytorch/blob/main/SECURITY.md#untrusted-models for more details). In a future release, the default value for `weights_only` will be flipped to `True`. This limits the functions that could be executed during unpickling. Arbitrary objects will no longer be allowed to be loaded via this mode unless they are explicitly allowlisted by the user via `torch.serialization.add_safe_globals`. We recommend you start setting `weights_only=True` for any use case where you don't have full control of the loaded file. Please open an issue on GitHub for any issues related to this experimental feature.\n",
      "  colbert_state_dict = torch.load(os.path.join(model_dir, 'colbert_linear.pt'), map_location='cpu')\n",
      "/home/taiquach123471/anaconda3/envs/insomnia_chatbot_v2/lib/python3.11/site-packages/FlagEmbedding/BGE_M3/modeling.py:336: FutureWarning: You are using `torch.load` with `weights_only=False` (the current default value), which uses the default pickle module implicitly. It is possible to construct malicious pickle data which will execute arbitrary code during unpickling (See https://github.com/pytorch/pytorch/blob/main/SECURITY.md#untrusted-models for more details). In a future release, the default value for `weights_only` will be flipped to `True`. This limits the functions that could be executed during unpickling. Arbitrary objects will no longer be allowed to be loaded via this mode unless they are explicitly allowlisted by the user via `torch.serialization.add_safe_globals`. We recommend you start setting `weights_only=True` for any use case where you don't have full control of the loaded file. Please open an issue on GitHub for any issues related to this experimental feature.\n",
      "  sparse_state_dict = torch.load(os.path.join(model_dir, 'sparse_linear.pt'), map_location='cpu')\n",
      "flash_attn is not installed. Using PyTorch native attention implementation.\n",
      "flash_attn is not installed. Using PyTorch native attention implementation.\n",
      "flash_attn is not installed. Using PyTorch native attention implementation.\n",
      "flash_attn is not installed. Using PyTorch native attention implementation.\n",
      "flash_attn is not installed. Using PyTorch native attention implementation.\n",
      "flash_attn is not installed. Using PyTorch native attention implementation.\n",
      "flash_attn is not installed. Using PyTorch native attention implementation.\n",
      "flash_attn is not installed. Using PyTorch native attention implementation.\n",
      "flash_attn is not installed. Using PyTorch native attention implementation.\n",
      "flash_attn is not installed. Using PyTorch native attention implementation.\n",
      "flash_attn is not installed. Using PyTorch native attention implementation.\n",
      "flash_attn is not installed. Using PyTorch native attention implementation.\n",
      "flash_attn is not installed. Using PyTorch native attention implementation.\n",
      "flash_attn is not installed. Using PyTorch native attention implementation.\n",
      "flash_attn is not installed. Using PyTorch native attention implementation.\n",
      "flash_attn is not installed. Using PyTorch native attention implementation.\n",
      "flash_attn is not installed. Using PyTorch native attention implementation.\n",
      "flash_attn is not installed. Using PyTorch native attention implementation.\n",
      "flash_attn is not installed. Using PyTorch native attention implementation.\n",
      "flash_attn is not installed. Using PyTorch native attention implementation.\n",
      "flash_attn is not installed. Using PyTorch native attention implementation.\n",
      "flash_attn is not installed. Using PyTorch native attention implementation.\n",
      "flash_attn is not installed. Using PyTorch native attention implementation.\n",
      "flash_attn is not installed. Using PyTorch native attention implementation.\n",
      "flash_attn is not installed. Using PyTorch native attention implementation.\n"
     ]
    }
   ],
   "source": [
    "client = QdrantClient(\"http://localhost:6333\")\n",
    "llm = ChatGroq(model=\"llama-3.1-70b-versatile\", temperature=0)\n",
    "bge_m3 = BGEM3FlagModel('BAAI/bge-m3', use_fp16=True)\n",
    "jina_v3 = AutoModel.from_pretrained(\"jinaai/jina-embeddings-v3\", trust_remote_code=True).to('cuda')"
   ]
  },
  {
   "cell_type": "code",
   "execution_count": 3,
   "metadata": {},
   "outputs": [],
   "source": [
    "retrieve_relevant_chunks = functools.partial(retrieve_relevant_chunks, jina_embedding = jina_v3, bge_embedding = bge_m3, client = client)\n",
    "\n",
    "@tool\n",
    "def retrieve_chunks(query: str) -> str:\n",
    "    \"\"\"retrieve_chunks(query=\"the search query\") - This tool retrieves relevant information from a vector store containing insomnia-related data based on the given query\"\"\"\n",
    "    relevant_chunks = retrieve_relevant_chunks(query=query)\n",
    "    relevant_chunks = format_chunks(relevant_chunks[:3])\n",
    "    return relevant_chunks\n",
    "tools = [retrieve_chunks]"
   ]
  },
  {
   "cell_type": "code",
   "execution_count": 4,
   "metadata": {},
   "outputs": [],
   "source": [
    "planner = create_planner(llm, tools, llm_compiler_prompt)"
   ]
  },
  {
   "cell_type": "code",
   "execution_count": 5,
   "metadata": {},
   "outputs": [],
   "source": [
    "runnable = joiner_prompt | llm.with_structured_output(JoinOutputs)\n",
    "joiner_chain = select_recent_messages | runnable"
   ]
  },
  {
   "cell_type": "code",
   "execution_count": 6,
   "metadata": {},
   "outputs": [],
   "source": [
    "@as_runnable\n",
    "def plan_and_schedule(state: State):\n",
    "    messages = state[\"llm_compiler_messages\"]\n",
    "    tasks = planner.stream(messages)\n",
    "    # Begin executing the planner immediately\n",
    "    try:\n",
    "        tasks = itertools.chain([next(tasks)], tasks)\n",
    "    except StopIteration:\n",
    "        # Handle the case where tasks is empty.\n",
    "        tasks = iter([])\n",
    "    scheduled_tasks = schedule_tasks.invoke(\n",
    "        {\n",
    "            \"messages\": messages,\n",
    "            \"tasks\": tasks,\n",
    "        }\n",
    "    )\n",
    "    print(scheduled_tasks)\n",
    "    return {\"llm_compiler_messages\": scheduled_tasks}\n",
    "\n",
    "def joiner(state: State):\n",
    "    join_outputs: JoinOutputs = joiner_chain.invoke({\"llm_compiler_messages\": state[\"llm_compiler_messages\"]})\n",
    "    if join_outputs.should_replan:\n",
    "        return {\"llm_compiler_messages\":[AIMessage(content = f\"Thought: {join_outputs.thought}\")] +  [SystemMessage(content = join_outputs.replan_analysis)]}\n",
    "    else:\n",
    "        messages = state[\"llm_compiler_messages\"]\n",
    "        documents = ''\n",
    "        for msg in messages[::-1]:\n",
    "            if isinstance(msg, HumanMessage):\n",
    "                break\n",
    "            if msg.name == 'join':\n",
    "                continue\n",
    "            documents += msg.content + '\\n\\n'\n",
    "        \n",
    "        return {\"documents\": documents}"
   ]
  },
  {
   "cell_type": "code",
   "execution_count": 7,
   "metadata": {},
   "outputs": [
    {
     "name": "stderr",
     "output_type": "stream",
     "text": [
      "Failed to use model_dump to serialize <class 'langchain_core.tools.structured.StructuredTool'> to JSON: PydanticSerializationError(Unable to serialize unknown type: <class 'pydantic._internal._model_construction.ModelMetaclass'>)\n",
      "Failed to use model_dump to serialize <class 'langchain_core.tools.structured.StructuredTool'> to JSON: PydanticSerializationError(Unable to serialize unknown type: <class 'pydantic._internal._model_construction.ModelMetaclass'>)\n",
      "Failed to use model_dump to serialize <class 'langchain_core.tools.structured.StructuredTool'> to JSON: PydanticSerializationError(Unable to serialize unknown type: <class 'pydantic._internal._model_construction.ModelMetaclass'>)\n",
      "Failed to use model_dump to serialize <class 'langchain_core.tools.structured.StructuredTool'> to JSON: PydanticSerializationError(Unable to serialize unknown type: <class 'pydantic._internal._model_construction.ModelMetaclass'>)\n"
     ]
    },
    {
     "name": "stdout",
     "output_type": "stream",
     "text": [
      "[FunctionMessage(content='---Begin Chunk---\\nSource: ./Data/extracted/TÁC HẠI/ijerph-18-12389.md\\ndoc_id:63250589-0e64-4fc4-b01c-f0217883214e\\nTitle: Effects of Caffeine and Caffeinated Beverages in Children, Adolescents and Young Adults: Short Review\\n\\nContent:\\nNumerous studies have pointed out the adverse health effects of EDs and their connection to destructive behaviors. ED consumption is also widespread among American teenagers (13–17 years), and the rate depends on demographic, psychosocial, lifestyle, and substance abuse factors. In a representative American study, 40% of adolescents reported daily consumption. There is a strong correlation between the consumption of EDs and increased soft drug use, which in turn is linked to increasing drug abuse in general. Consumption of EDs among adolescents is also associated with other potentially negative health and behavioral outcomes, such as sensation-seeking, the use of tobacco and other harmful substances, and binge-drinking, as well as a greater risk for depression and injuries that require medical treatment. Surveys of American high schoolers indicated a strong link between ED consumption and hyperactivity or a general lack of attentiveness. A study of 15- to 16-year-olds demonstrated a strong correlation between caffeine consumption, aggressive behavior, mood disorders and other behavioral disorders. Problems with cognitive capabilities were also reported.\\n\\nMany other studies report on the adverse effects of ED consumption. In a Finnish sample (12–18 years), there was a strong correlation between daily ED consumption and symptoms such as headaches, sleep disturbances, and fatigue. The known side effects of excessive caffeine consumption include tachycardia, tremors, high blood pressure, and in the most serious cases, sudden death. Among proven negative consequences of caffeine consumption in children and adolescents, effects on the neurological and cardiovascular systems have been found, which in turn can cause physical dependence and addiction. Recent studies described significant hemodynamic changes in healthy young individuals following ED consumption, with elevated systolic and diastolic BP, increased cardiac output and myocardial load, repolarization abnormalities and reduced cerebral blood flow velocity. A significant increase was also found in circulating catecholamines, reflecting sympathetic activation, since caffeine stimulates the CNS and cardiac systems. Among Icelandic children (10–12 years), stomach pains and headaches as well as insomnia were more common among ED consumers. ED use may also be accompanied by anxiety, nervousness, migraines, gastrointestinal disease, metabolic acidosis, insomnia, arrhythmia, chest pain, and other cardiovascular complications. Park and coworkers, who studied 12- to 18-year-olds, stated that ED consumption was significantly correlated with poor sleep, increased stress, depression, and suicidal thoughts.\\n\\n---End Chunk---\\n\\n---Begin Chunk---\\nSource: ./Data/extracted/TÁC HẠI/JSR-30-e13190.md\\ndoc_id:cb9d84ca-cdfb-4684-ba3a-37ed0a595ee9\\nTitle: Insomnia symptoms and non-suicidal self-injury in adolescence: understanding temporal relations and mechanisms\\n\\nContent:\\nThe present study examined the temporal links between insomnia symptoms and NSSI during adolescence, showing that these two problems are related over time, in a cyclical fashion. In addition, the present study provided a deeper understanding of the mechanisms that could explain these associations. Specifically, we showed that adolescents who reported insomnia symptoms were more likely to report depressive symptoms 1 year later. This, in turn, made them more likely to engage in NSSI.\\n\\nWith a few exceptions, most studies examining the link between sleep difficulties and NSSI are cross-sectional in nature. In addition, these studies have used dichotomised measures to assess NSSI or short and very broad measures of sleep difficulties. Regardless of their design, these studies have assumed that sleep difficulties precede self-injurious behaviours, without providing a theoretical foundation for such claims. Based on both the functional models of NSSI, as well as on the hyperarousal model of insomnia, we proposed and tested a new theoretical model. By using three waves of data, and adopting validated measures of both insomnia symptoms and NSSI, we showed that insomnia symptoms and NSSI are reciprocally linked over time. These findings seem to challenge the unidirectional assumption that sleep problems in general, and insomnia in particular, drive NSSI.\\n\\nRegarding the mechanisms behind the association between sleep disturbances and NSSI, our present results are consistent with the idea that insomnia symptoms trigger depressive symptoms and that adolescents use NSSI to cope with them. Researchers agree that NSSI is a maladaptive coping strategy for emotional distress and that depressive symptoms and NSSI maintain and exacerbate each other over time. Insomnia, on the other hand, is a well-established risk factor for both emotional distress and maladaptive emotion regulation, particularly but not limited to depression. Thus, our present findings combined with others suggest that symptoms of insomnia may be both a transdiagnostic factor (contributing to both depressive symptoms and NSSI) and a comorbid problem.\\n\\nContrary to our expectations, impulsivity did not mediate the link between insomnia symptoms and NSSI. Also, rumination and worry did not act as mediators on the link between NSSI and insomnia symptoms. Our inability to find the proposed mediational links may be due to measurement issues. These issues include relying on one dimension of impulsivity, when other facets, such as sensation seeking, may be more important; assessing rumination as a single dimension, rather than as a multidimensional construct or a general thinking style, which have different associations with psychological distress; and using a very general scale for worry. In addition, we used measures that were more trait-like, when the impulsivity, rumination, and worry linking insomnia symptoms to NSSI may be more transitory. Future studies should further investigate the mediating roles of impulsivity, rumination, and worry using a variety of dimensions, and use designs that allows tapping into the fluctuation of these dimensions.\\n\\nAll in all, in the present study we used two specific models for NSSI and insomnia as a basis for developing our own theoretical model. Given the fact that our present study represents the first attempt at developing a theoretical model linking symptoms of insomnia to NSSI during adolescence, we believe it is too early to know whether the lack of expected associations is due to a statistical error or not. ---End Chunk---\\n\\n---Begin Chunk---\\nSource: ./Data/extracted/TÁC HẠI/JSR-30-e13190.md\\ndoc_id:2e9bbb75-99b0-4e8f-a33a-913b80b0f961\\nTitle: Insomnia symptoms and non-suicidal self-injury in adolescence: understanding temporal relations and mechanisms\\n\\nContent:\\nLast, our sample included mainly Swedish adolescents. A small number of reviews show that Swedish adolescents are more likely to engage in NSSI than their European counterparts. Thus, our present findings may help Swedish practitioners to better tackle NSSI among adolescents, hopefully decreasing its frequency. However, given cultural variations, further studies are needed to replicate our present findings in other settings. Despite these strengths, the present study also has limitations. Specifically, we focussed our attention on only four possible mediators. Other potential mechanisms should be tested. For example, we assumed, but did not specifically test, the idea that insomnia generates negative arousal states leading to the use of NSSI as a way of regulating negative emotions. Future studies could focus on emotion regulation issues, confirming that the negative feelings aroused by depression. Other potential mechanisms linking dysfunctional beliefs and attitudes about sleep, as well as impaired decision-making and problem-solving, have been proposed as mechanisms that explain the effect of insomnia on suicidal thoughts and behaviours. Studies in these directions are needed. ## CONCLUSIONS\\nOur present study suggests a new approach to linking sleep and NSSI, merging the functional model of NSSI with the hyperarousal model of insomnia. We propose that insomnia and NSSI are bidirectionally linked via emotional, cognitive, and physiological arousal. We specifically looked at depression, impulsivity, worry and rumination but future research should replicate and further develop this model by expanding knowledge of possible mediators.\\n\\nPerhaps the most important message of the present study is that sleep difficulties and NSSI may be cyclically related, with depressive symptoms playing an important role in the escalation of NSSI. The bidirectionality between symptoms of insomnia and NSSI may suggest that these problems are either present at the same time (comorbidity) or there is an underlying condition that connects them. Because comorbidity is consistently associated with a greater demand for professional help as well as with greater interference with everyday life, future studies should use a more person-oriented approach to assess these possibilities.\\n\\nOur present findings also suggest that practitioners designing intervention efforts should target insomnia and the negative feelings it may generate for adolescents. Also, these findings have important implications for clinicians working with adolescents for at least three reasons. First, monitoring and assessing the adolescents’ sleep quality might allow the identification of a vulnerable group of adolescents, namely those who engage in NSSI. This early screening might prevent the engagement in more maladaptive behaviors, such as suicidal thoughts and conducts. Second, because better sleep might act as a protective factor against NSSI, treatments and interventions specifically designed to increase sleep quality, such as cognitive behavioural therapy for insomnia, might also be able to indirectly target NSSI. Last, given the private nature of NSSI, as well as the stigma around it, adolescents might be more prone to seek/receive treatment for sleep difficulties than for NSSI. Therefore, knowledge of the association between sleep and NSSI is very important for practitioners working with adolescents.\\n\\n---End Chunk---\\n\\n', additional_kwargs={'idx': 1, 'args': {'query': 'common causes of insomnia in teenagers'}}, response_metadata={}, name='retrieve_chunks', tool_call_id=1), FunctionMessage(content='---Begin Chunk---\\nSource: ./Data/extracted/TÁC HẠI/jcsm.9736.md\\ndoc_id:dca79661-e61d-446b-b679-3f24e25ffecf\\nTitle: Impact of daily caffeine intake and timing on electroencephalogram-measured sleep in adolescents\\n\\nContent:\\n## INTRODUCTION\\nCaffeine consumption is ubiquitous among US adolescents, with up to 95% reporting recent use. While average daily caffeine intake among teens has been estimated at 50 mg, the amount consumed varies widely. For example, one study reported a range of 0–800 mg of caffeine intake per day over a 2-week period. Common caffeine sources among adolescents include soda, tea, coffee, and energy drinks, the last of which is particularly concerning given the high caffeine content. Although legal, widely used, and socially acceptable, when consumed in high amounts caffeine is nonetheless a psychoactive stimulant substance linked to detrimental effects on adolescent health and development, including cognitive, physiological, psychological, and cardiovascular functioning.\\n\\nHigh caffeine intake may be particularly harmful to adolescent sleep health. In particular, increased caffeine consumption may contribute to insufficient sleep among adolescents, including shorter duration, increased wake after sleep onset, and more difficulty falling or staying asleep, as assessed by parent or adolescent report, although not all studies have associated caffeine with adolescent sleep. Daytime sleepiness and dysfunction also have been linked to high caffeine intake among adolescents, suggesting a possible vicious cycle, in which caffeine interferes with sleep and results in daytime sleepiness, which, in turn, contributes to greater caffeine consumption. # Daily caffeine and EEG-measured sleep in adolescents\\n\\nDespite links between caffeine, sleep, and adolescent health, several critical questions remain. ---End Chunk---\\n\\n---Begin Chunk---\\nSource: ./Data/extracted/TÁC HẠI/ijerph-18-12389.md\\ndoc_id:63250589-0e64-4fc4-b01c-f0217883214e\\nTitle: Effects of Caffeine and Caffeinated Beverages in Children, Adolescents and Young Adults: Short Review\\n\\nContent:\\nNumerous studies have pointed out the adverse health effects of EDs and their connection to destructive behaviors. ED consumption is also widespread among American teenagers (13–17 years), and the rate depends on demographic, psychosocial, lifestyle, and substance abuse factors. In a representative American study, 40% of adolescents reported daily consumption. There is a strong correlation between the consumption of EDs and increased soft drug use, which in turn is linked to increasing drug abuse in general. Consumption of EDs among adolescents is also associated with other potentially negative health and behavioral outcomes, such as sensation-seeking, the use of tobacco and other harmful substances, and binge-drinking, as well as a greater risk for depression and injuries that require medical treatment. Surveys of American high schoolers indicated a strong link between ED consumption and hyperactivity or a general lack of attentiveness. A study of 15- to 16-year-olds demonstrated a strong correlation between caffeine consumption, aggressive behavior, mood disorders and other behavioral disorders. Problems with cognitive capabilities were also reported.\\n\\nMany other studies report on the adverse effects of ED consumption. In a Finnish sample (12–18 years), there was a strong correlation between daily ED consumption and symptoms such as headaches, sleep disturbances, and fatigue. The known side effects of excessive caffeine consumption include tachycardia, tremors, high blood pressure, and in the most serious cases, sudden death. Among proven negative consequences of caffeine consumption in children and adolescents, effects on the neurological and cardiovascular systems have been found, which in turn can cause physical dependence and addiction. Recent studies described significant hemodynamic changes in healthy young individuals following ED consumption, with elevated systolic and diastolic BP, increased cardiac output and myocardial load, repolarization abnormalities and reduced cerebral blood flow velocity. A significant increase was also found in circulating catecholamines, reflecting sympathetic activation, since caffeine stimulates the CNS and cardiac systems. Among Icelandic children (10–12 years), stomach pains and headaches as well as insomnia were more common among ED consumers. ED use may also be accompanied by anxiety, nervousness, migraines, gastrointestinal disease, metabolic acidosis, insomnia, arrhythmia, chest pain, and other cardiovascular complications. Park and coworkers, who studied 12- to 18-year-olds, stated that ED consumption was significantly correlated with poor sleep, increased stress, depression, and suicidal thoughts.\\n\\n---End Chunk---\\n\\n---Begin Chunk---\\nSource: ./Data/extracted/TÁC HẠI/jcsm.9736.md\\ndoc_id:b61d4b6b-b9e3-4149-87f3-70878067353e\\nTitle: Impact of daily caffeine intake and timing on electroencephalogram-measured sleep in adolescents\\n\\nContent:\\n# CONCLUSIONS\\n\\nCaffeine consumption impacts subsequent sleep duration, latency, efficiency, and REM duration in adolescents. Reducing caffeine intake, particularly in the afternoon and evening, may enhance adolescent sleep, with the potential for downstream support of health and development. Caffeine education is already a part of adolescent behavioral sleep interventions; however, refinement of strategies for dissemination of educational and behavioral techniques targeting caffeine and sleep to adolescents remains a clinical need. For example, as consumer-grade sleep technologies continue to advance, methods for assessing links between caffeine intake, particularly in the afternoon and evening, and sleep and communicating this information directly to the adolescents themselves (eg, through a smartphone app) may empower adolescents to observe the impact of caffeine and motivate behavior change. Additionally, federal mandates requiring labeling of caffeine content may be important for raising awareness of caffeine consumption arising from a variety of products as well as its potential health effects.\\n\\n---End Chunk---\\n\\n', additional_kwargs={'idx': 2, 'args': {'query': 'caffeine consumption and insomnia in teenagers'}}, response_metadata={}, name='retrieve_chunks', tool_call_id=2), FunctionMessage(content='join', additional_kwargs={'idx': 3, 'args': ()}, response_metadata={}, name='join', tool_call_id=3)]\n"
     ]
    }
   ],
   "source": [
    "query = \"What are the most common causes of insomnia in teenagers, and is caffeine consumption one of them?\"\n",
    "tool_messages = plan_and_schedule.invoke({\"llm_compiler_messages\": [HumanMessage(content=query)]})['llm_compiler_messages']"
   ]
  },
  {
   "cell_type": "code",
   "execution_count": 8,
   "metadata": {},
   "outputs": [],
   "source": [
    "join_outputs: JoinOutputs = joiner_chain.invoke({\"llm_compiler_messages\": [HumanMessage(content=query)] + tool_messages})"
   ]
  },
  {
   "cell_type": "code",
   "execution_count": 9,
   "metadata": {},
   "outputs": [
    {
     "data": {
      "text/plain": [
       "[HumanMessage(content='What are the most common causes of insomnia in teenagers, and is caffeine consumption one of them?', additional_kwargs={}, response_metadata={}),\n",
       " FunctionMessage(content='---Begin Chunk---\\nSource: ./Data/extracted/TÁC HẠI/ijerph-18-12389.md\\ndoc_id:63250589-0e64-4fc4-b01c-f0217883214e\\nTitle: Effects of Caffeine and Caffeinated Beverages in Children, Adolescents and Young Adults: Short Review\\n\\nContent:\\nNumerous studies have pointed out the adverse health effects of EDs and their connection to destructive behaviors. ED consumption is also widespread among American teenagers (13–17 years), and the rate depends on demographic, psychosocial, lifestyle, and substance abuse factors. In a representative American study, 40% of adolescents reported daily consumption. There is a strong correlation between the consumption of EDs and increased soft drug use, which in turn is linked to increasing drug abuse in general. Consumption of EDs among adolescents is also associated with other potentially negative health and behavioral outcomes, such as sensation-seeking, the use of tobacco and other harmful substances, and binge-drinking, as well as a greater risk for depression and injuries that require medical treatment. Surveys of American high schoolers indicated a strong link between ED consumption and hyperactivity or a general lack of attentiveness. A study of 15- to 16-year-olds demonstrated a strong correlation between caffeine consumption, aggressive behavior, mood disorders and other behavioral disorders. Problems with cognitive capabilities were also reported.\\n\\nMany other studies report on the adverse effects of ED consumption. In a Finnish sample (12–18 years), there was a strong correlation between daily ED consumption and symptoms such as headaches, sleep disturbances, and fatigue. The known side effects of excessive caffeine consumption include tachycardia, tremors, high blood pressure, and in the most serious cases, sudden death. Among proven negative consequences of caffeine consumption in children and adolescents, effects on the neurological and cardiovascular systems have been found, which in turn can cause physical dependence and addiction. Recent studies described significant hemodynamic changes in healthy young individuals following ED consumption, with elevated systolic and diastolic BP, increased cardiac output and myocardial load, repolarization abnormalities and reduced cerebral blood flow velocity. A significant increase was also found in circulating catecholamines, reflecting sympathetic activation, since caffeine stimulates the CNS and cardiac systems. Among Icelandic children (10–12 years), stomach pains and headaches as well as insomnia were more common among ED consumers. ED use may also be accompanied by anxiety, nervousness, migraines, gastrointestinal disease, metabolic acidosis, insomnia, arrhythmia, chest pain, and other cardiovascular complications. Park and coworkers, who studied 12- to 18-year-olds, stated that ED consumption was significantly correlated with poor sleep, increased stress, depression, and suicidal thoughts.\\n\\n---End Chunk---\\n\\n---Begin Chunk---\\nSource: ./Data/extracted/TÁC HẠI/JSR-30-e13190.md\\ndoc_id:cb9d84ca-cdfb-4684-ba3a-37ed0a595ee9\\nTitle: Insomnia symptoms and non-suicidal self-injury in adolescence: understanding temporal relations and mechanisms\\n\\nContent:\\nThe present study examined the temporal links between insomnia symptoms and NSSI during adolescence, showing that these two problems are related over time, in a cyclical fashion. In addition, the present study provided a deeper understanding of the mechanisms that could explain these associations. Specifically, we showed that adolescents who reported insomnia symptoms were more likely to report depressive symptoms 1 year later. This, in turn, made them more likely to engage in NSSI.\\n\\nWith a few exceptions, most studies examining the link between sleep difficulties and NSSI are cross-sectional in nature. In addition, these studies have used dichotomised measures to assess NSSI or short and very broad measures of sleep difficulties. Regardless of their design, these studies have assumed that sleep difficulties precede self-injurious behaviours, without providing a theoretical foundation for such claims. Based on both the functional models of NSSI, as well as on the hyperarousal model of insomnia, we proposed and tested a new theoretical model. By using three waves of data, and adopting validated measures of both insomnia symptoms and NSSI, we showed that insomnia symptoms and NSSI are reciprocally linked over time. These findings seem to challenge the unidirectional assumption that sleep problems in general, and insomnia in particular, drive NSSI.\\n\\nRegarding the mechanisms behind the association between sleep disturbances and NSSI, our present results are consistent with the idea that insomnia symptoms trigger depressive symptoms and that adolescents use NSSI to cope with them. Researchers agree that NSSI is a maladaptive coping strategy for emotional distress and that depressive symptoms and NSSI maintain and exacerbate each other over time. Insomnia, on the other hand, is a well-established risk factor for both emotional distress and maladaptive emotion regulation, particularly but not limited to depression. Thus, our present findings combined with others suggest that symptoms of insomnia may be both a transdiagnostic factor (contributing to both depressive symptoms and NSSI) and a comorbid problem.\\n\\nContrary to our expectations, impulsivity did not mediate the link between insomnia symptoms and NSSI. Also, rumination and worry did not act as mediators on the link between NSSI and insomnia symptoms. Our inability to find the proposed mediational links may be due to measurement issues. These issues include relying on one dimension of impulsivity, when other facets, such as sensation seeking, may be more important; assessing rumination as a single dimension, rather than as a multidimensional construct or a general thinking style, which have different associations with psychological distress; and using a very general scale for worry. In addition, we used measures that were more trait-like, when the impulsivity, rumination, and worry linking insomnia symptoms to NSSI may be more transitory. Future studies should further investigate the mediating roles of impulsivity, rumination, and worry using a variety of dimensions, and use designs that allows tapping into the fluctuation of these dimensions.\\n\\nAll in all, in the present study we used two specific models for NSSI and insomnia as a basis for developing our own theoretical model. Given the fact that our present study represents the first attempt at developing a theoretical model linking symptoms of insomnia to NSSI during adolescence, we believe it is too early to know whether the lack of expected associations is due to a statistical error or not. ---End Chunk---\\n\\n---Begin Chunk---\\nSource: ./Data/extracted/TÁC HẠI/JSR-30-e13190.md\\ndoc_id:2e9bbb75-99b0-4e8f-a33a-913b80b0f961\\nTitle: Insomnia symptoms and non-suicidal self-injury in adolescence: understanding temporal relations and mechanisms\\n\\nContent:\\nLast, our sample included mainly Swedish adolescents. A small number of reviews show that Swedish adolescents are more likely to engage in NSSI than their European counterparts. Thus, our present findings may help Swedish practitioners to better tackle NSSI among adolescents, hopefully decreasing its frequency. However, given cultural variations, further studies are needed to replicate our present findings in other settings. Despite these strengths, the present study also has limitations. Specifically, we focussed our attention on only four possible mediators. Other potential mechanisms should be tested. For example, we assumed, but did not specifically test, the idea that insomnia generates negative arousal states leading to the use of NSSI as a way of regulating negative emotions. Future studies could focus on emotion regulation issues, confirming that the negative feelings aroused by depression. Other potential mechanisms linking dysfunctional beliefs and attitudes about sleep, as well as impaired decision-making and problem-solving, have been proposed as mechanisms that explain the effect of insomnia on suicidal thoughts and behaviours. Studies in these directions are needed. ## CONCLUSIONS\\nOur present study suggests a new approach to linking sleep and NSSI, merging the functional model of NSSI with the hyperarousal model of insomnia. We propose that insomnia and NSSI are bidirectionally linked via emotional, cognitive, and physiological arousal. We specifically looked at depression, impulsivity, worry and rumination but future research should replicate and further develop this model by expanding knowledge of possible mediators.\\n\\nPerhaps the most important message of the present study is that sleep difficulties and NSSI may be cyclically related, with depressive symptoms playing an important role in the escalation of NSSI. The bidirectionality between symptoms of insomnia and NSSI may suggest that these problems are either present at the same time (comorbidity) or there is an underlying condition that connects them. Because comorbidity is consistently associated with a greater demand for professional help as well as with greater interference with everyday life, future studies should use a more person-oriented approach to assess these possibilities.\\n\\nOur present findings also suggest that practitioners designing intervention efforts should target insomnia and the negative feelings it may generate for adolescents. Also, these findings have important implications for clinicians working with adolescents for at least three reasons. First, monitoring and assessing the adolescents’ sleep quality might allow the identification of a vulnerable group of adolescents, namely those who engage in NSSI. This early screening might prevent the engagement in more maladaptive behaviors, such as suicidal thoughts and conducts. Second, because better sleep might act as a protective factor against NSSI, treatments and interventions specifically designed to increase sleep quality, such as cognitive behavioural therapy for insomnia, might also be able to indirectly target NSSI. Last, given the private nature of NSSI, as well as the stigma around it, adolescents might be more prone to seek/receive treatment for sleep difficulties than for NSSI. Therefore, knowledge of the association between sleep and NSSI is very important for practitioners working with adolescents.\\n\\n---End Chunk---\\n\\n', additional_kwargs={'idx': 1, 'args': {'query': 'common causes of insomnia in teenagers'}}, response_metadata={}, name='retrieve_chunks', tool_call_id=1),\n",
       " FunctionMessage(content='---Begin Chunk---\\nSource: ./Data/extracted/TÁC HẠI/jcsm.9736.md\\ndoc_id:dca79661-e61d-446b-b679-3f24e25ffecf\\nTitle: Impact of daily caffeine intake and timing on electroencephalogram-measured sleep in adolescents\\n\\nContent:\\n## INTRODUCTION\\nCaffeine consumption is ubiquitous among US adolescents, with up to 95% reporting recent use. While average daily caffeine intake among teens has been estimated at 50 mg, the amount consumed varies widely. For example, one study reported a range of 0–800 mg of caffeine intake per day over a 2-week period. Common caffeine sources among adolescents include soda, tea, coffee, and energy drinks, the last of which is particularly concerning given the high caffeine content. Although legal, widely used, and socially acceptable, when consumed in high amounts caffeine is nonetheless a psychoactive stimulant substance linked to detrimental effects on adolescent health and development, including cognitive, physiological, psychological, and cardiovascular functioning.\\n\\nHigh caffeine intake may be particularly harmful to adolescent sleep health. In particular, increased caffeine consumption may contribute to insufficient sleep among adolescents, including shorter duration, increased wake after sleep onset, and more difficulty falling or staying asleep, as assessed by parent or adolescent report, although not all studies have associated caffeine with adolescent sleep. Daytime sleepiness and dysfunction also have been linked to high caffeine intake among adolescents, suggesting a possible vicious cycle, in which caffeine interferes with sleep and results in daytime sleepiness, which, in turn, contributes to greater caffeine consumption. # Daily caffeine and EEG-measured sleep in adolescents\\n\\nDespite links between caffeine, sleep, and adolescent health, several critical questions remain. ---End Chunk---\\n\\n---Begin Chunk---\\nSource: ./Data/extracted/TÁC HẠI/ijerph-18-12389.md\\ndoc_id:63250589-0e64-4fc4-b01c-f0217883214e\\nTitle: Effects of Caffeine and Caffeinated Beverages in Children, Adolescents and Young Adults: Short Review\\n\\nContent:\\nNumerous studies have pointed out the adverse health effects of EDs and their connection to destructive behaviors. ED consumption is also widespread among American teenagers (13–17 years), and the rate depends on demographic, psychosocial, lifestyle, and substance abuse factors. In a representative American study, 40% of adolescents reported daily consumption. There is a strong correlation between the consumption of EDs and increased soft drug use, which in turn is linked to increasing drug abuse in general. Consumption of EDs among adolescents is also associated with other potentially negative health and behavioral outcomes, such as sensation-seeking, the use of tobacco and other harmful substances, and binge-drinking, as well as a greater risk for depression and injuries that require medical treatment. Surveys of American high schoolers indicated a strong link between ED consumption and hyperactivity or a general lack of attentiveness. A study of 15- to 16-year-olds demonstrated a strong correlation between caffeine consumption, aggressive behavior, mood disorders and other behavioral disorders. Problems with cognitive capabilities were also reported.\\n\\nMany other studies report on the adverse effects of ED consumption. In a Finnish sample (12–18 years), there was a strong correlation between daily ED consumption and symptoms such as headaches, sleep disturbances, and fatigue. The known side effects of excessive caffeine consumption include tachycardia, tremors, high blood pressure, and in the most serious cases, sudden death. Among proven negative consequences of caffeine consumption in children and adolescents, effects on the neurological and cardiovascular systems have been found, which in turn can cause physical dependence and addiction. Recent studies described significant hemodynamic changes in healthy young individuals following ED consumption, with elevated systolic and diastolic BP, increased cardiac output and myocardial load, repolarization abnormalities and reduced cerebral blood flow velocity. A significant increase was also found in circulating catecholamines, reflecting sympathetic activation, since caffeine stimulates the CNS and cardiac systems. Among Icelandic children (10–12 years), stomach pains and headaches as well as insomnia were more common among ED consumers. ED use may also be accompanied by anxiety, nervousness, migraines, gastrointestinal disease, metabolic acidosis, insomnia, arrhythmia, chest pain, and other cardiovascular complications. Park and coworkers, who studied 12- to 18-year-olds, stated that ED consumption was significantly correlated with poor sleep, increased stress, depression, and suicidal thoughts.\\n\\n---End Chunk---\\n\\n---Begin Chunk---\\nSource: ./Data/extracted/TÁC HẠI/jcsm.9736.md\\ndoc_id:b61d4b6b-b9e3-4149-87f3-70878067353e\\nTitle: Impact of daily caffeine intake and timing on electroencephalogram-measured sleep in adolescents\\n\\nContent:\\n# CONCLUSIONS\\n\\nCaffeine consumption impacts subsequent sleep duration, latency, efficiency, and REM duration in adolescents. Reducing caffeine intake, particularly in the afternoon and evening, may enhance adolescent sleep, with the potential for downstream support of health and development. Caffeine education is already a part of adolescent behavioral sleep interventions; however, refinement of strategies for dissemination of educational and behavioral techniques targeting caffeine and sleep to adolescents remains a clinical need. For example, as consumer-grade sleep technologies continue to advance, methods for assessing links between caffeine intake, particularly in the afternoon and evening, and sleep and communicating this information directly to the adolescents themselves (eg, through a smartphone app) may empower adolescents to observe the impact of caffeine and motivate behavior change. Additionally, federal mandates requiring labeling of caffeine content may be important for raising awareness of caffeine consumption arising from a variety of products as well as its potential health effects.\\n\\n---End Chunk---\\n\\n', additional_kwargs={'idx': 2, 'args': {'query': 'caffeine consumption and insomnia in teenagers'}}, response_metadata={}, name='retrieve_chunks', tool_call_id=2),\n",
       " FunctionMessage(content='join', additional_kwargs={'idx': 3, 'args': ()}, response_metadata={}, name='join', tool_call_id=3),\n",
       " AIMessage(content=\"Thought: The provided information suggests that caffeine consumption is a common cause of insomnia in teenagers. Studies have shown that high caffeine intake can lead to sleep disturbances, including shorter duration, increased wake after sleep onset, and more difficulty falling or staying asleep. Additionally, caffeine consumption has been linked to other negative health and behavioral outcomes, such as increased risk of depression, anxiety, and substance abuse. Therefore, reducing caffeine intake, particularly in the afternoon and evening, may enhance adolescent sleep and overall health. However, the provided information is not sufficient to provide a comprehensive answer to the user's query, as it does not address other potential causes of insomnia in teenagers. Further research is needed to fully understand the relationship between caffeine consumption and insomnia in this population.\", additional_kwargs={}, response_metadata={}),\n",
       " SystemMessage(content=\"The provided information is not sufficient to provide a comprehensive answer to the user's query. Further research is needed to fully understand the relationship between caffeine consumption and insomnia in teenagers. Additional information on other potential causes of insomnia in teenagers, such as sleep disorders, mental health conditions, and lifestyle factors, is needed to provide a more comprehensive answer.\", additional_kwargs={}, response_metadata={})]"
      ]
     },
     "execution_count": 9,
     "metadata": {},
     "output_type": "execute_result"
    }
   ],
   "source": [
    "chat_history = [HumanMessage(content=query)] + tool_messages + [AIMessage(content = f\"Thought: {join_outputs.thought}\")] +  [SystemMessage(content = join_outputs.replan_analysis)]\n",
    "chat_history"
   ]
  },
  {
   "cell_type": "code",
   "execution_count": 10,
   "metadata": {},
   "outputs": [
    {
     "name": "stdout",
     "output_type": "stream",
     "text": [
      "AAAAAAAAAAAAAAAAA\n"
     ]
    },
    {
     "name": "stderr",
     "output_type": "stream",
     "text": [
      "Failed to use model_dump to serialize <class 'langchain_core.tools.structured.StructuredTool'> to JSON: PydanticSerializationError(Unable to serialize unknown type: <class 'pydantic._internal._model_construction.ModelMetaclass'>)\n",
      "Failed to use model_dump to serialize <class 'langchain_core.tools.structured.StructuredTool'> to JSON: PydanticSerializationError(Unable to serialize unknown type: <class 'pydantic._internal._model_construction.ModelMetaclass'>)\n",
      "Failed to use model_dump to serialize <class 'langchain_core.tools.structured.StructuredTool'> to JSON: PydanticSerializationError(Unable to serialize unknown type: <class 'pydantic._internal._model_construction.ModelMetaclass'>)\n",
      "Failed to use model_dump to serialize <class 'langchain_core.tools.structured.StructuredTool'> to JSON: PydanticSerializationError(Unable to serialize unknown type: <class 'pydantic._internal._model_construction.ModelMetaclass'>)\n"
     ]
    },
    {
     "name": "stdout",
     "output_type": "stream",
     "text": [
      "[FunctionMessage(content='---Begin Chunk---\\nSource: ./Data/extracted/TÁC HẠI/JSR-30-e13190.md\\ndoc_id:cb9d84ca-cdfb-4684-ba3a-37ed0a595ee9\\nTitle: Insomnia symptoms and non-suicidal self-injury in adolescence: understanding temporal relations and mechanisms\\n\\nContent:\\nThe present study examined the temporal links between insomnia symptoms and NSSI during adolescence, showing that these two problems are related over time, in a cyclical fashion. In addition, the present study provided a deeper understanding of the mechanisms that could explain these associations. Specifically, we showed that adolescents who reported insomnia symptoms were more likely to report depressive symptoms 1 year later. This, in turn, made them more likely to engage in NSSI.\\n\\nWith a few exceptions, most studies examining the link between sleep difficulties and NSSI are cross-sectional in nature. In addition, these studies have used dichotomised measures to assess NSSI or short and very broad measures of sleep difficulties. Regardless of their design, these studies have assumed that sleep difficulties precede self-injurious behaviours, without providing a theoretical foundation for such claims. Based on both the functional models of NSSI, as well as on the hyperarousal model of insomnia, we proposed and tested a new theoretical model. By using three waves of data, and adopting validated measures of both insomnia symptoms and NSSI, we showed that insomnia symptoms and NSSI are reciprocally linked over time. These findings seem to challenge the unidirectional assumption that sleep problems in general, and insomnia in particular, drive NSSI.\\n\\nRegarding the mechanisms behind the association between sleep disturbances and NSSI, our present results are consistent with the idea that insomnia symptoms trigger depressive symptoms and that adolescents use NSSI to cope with them. Researchers agree that NSSI is a maladaptive coping strategy for emotional distress and that depressive symptoms and NSSI maintain and exacerbate each other over time. Insomnia, on the other hand, is a well-established risk factor for both emotional distress and maladaptive emotion regulation, particularly but not limited to depression. Thus, our present findings combined with others suggest that symptoms of insomnia may be both a transdiagnostic factor (contributing to both depressive symptoms and NSSI) and a comorbid problem.\\n\\nContrary to our expectations, impulsivity did not mediate the link between insomnia symptoms and NSSI. Also, rumination and worry did not act as mediators on the link between NSSI and insomnia symptoms. Our inability to find the proposed mediational links may be due to measurement issues. These issues include relying on one dimension of impulsivity, when other facets, such as sensation seeking, may be more important; assessing rumination as a single dimension, rather than as a multidimensional construct or a general thinking style, which have different associations with psychological distress; and using a very general scale for worry. In addition, we used measures that were more trait-like, when the impulsivity, rumination, and worry linking insomnia symptoms to NSSI may be more transitory. Future studies should further investigate the mediating roles of impulsivity, rumination, and worry using a variety of dimensions, and use designs that allows tapping into the fluctuation of these dimensions.\\n\\nAll in all, in the present study we used two specific models for NSSI and insomnia as a basis for developing our own theoretical model. Given the fact that our present study represents the first attempt at developing a theoretical model linking symptoms of insomnia to NSSI during adolescence, we believe it is too early to know whether the lack of expected associations is due to a statistical error or not. ---End Chunk---\\n\\n---Begin Chunk---\\nSource: ./Data/extracted/TÁC HẠI/ijerph-18-12389.md\\ndoc_id:63250589-0e64-4fc4-b01c-f0217883214e\\nTitle: Effects of Caffeine and Caffeinated Beverages in Children, Adolescents and Young Adults: Short Review\\n\\nContent:\\nNumerous studies have pointed out the adverse health effects of EDs and their connection to destructive behaviors. ED consumption is also widespread among American teenagers (13–17 years), and the rate depends on demographic, psychosocial, lifestyle, and substance abuse factors. In a representative American study, 40% of adolescents reported daily consumption. There is a strong correlation between the consumption of EDs and increased soft drug use, which in turn is linked to increasing drug abuse in general. Consumption of EDs among adolescents is also associated with other potentially negative health and behavioral outcomes, such as sensation-seeking, the use of tobacco and other harmful substances, and binge-drinking, as well as a greater risk for depression and injuries that require medical treatment. Surveys of American high schoolers indicated a strong link between ED consumption and hyperactivity or a general lack of attentiveness. A study of 15- to 16-year-olds demonstrated a strong correlation between caffeine consumption, aggressive behavior, mood disorders and other behavioral disorders. Problems with cognitive capabilities were also reported.\\n\\nMany other studies report on the adverse effects of ED consumption. In a Finnish sample (12–18 years), there was a strong correlation between daily ED consumption and symptoms such as headaches, sleep disturbances, and fatigue. The known side effects of excessive caffeine consumption include tachycardia, tremors, high blood pressure, and in the most serious cases, sudden death. Among proven negative consequences of caffeine consumption in children and adolescents, effects on the neurological and cardiovascular systems have been found, which in turn can cause physical dependence and addiction. Recent studies described significant hemodynamic changes in healthy young individuals following ED consumption, with elevated systolic and diastolic BP, increased cardiac output and myocardial load, repolarization abnormalities and reduced cerebral blood flow velocity. A significant increase was also found in circulating catecholamines, reflecting sympathetic activation, since caffeine stimulates the CNS and cardiac systems. Among Icelandic children (10–12 years), stomach pains and headaches as well as insomnia were more common among ED consumers. ED use may also be accompanied by anxiety, nervousness, migraines, gastrointestinal disease, metabolic acidosis, insomnia, arrhythmia, chest pain, and other cardiovascular complications. Park and coworkers, who studied 12- to 18-year-olds, stated that ED consumption was significantly correlated with poor sleep, increased stress, depression, and suicidal thoughts.\\n\\n---End Chunk---\\n\\n---Begin Chunk---\\nSource: ./Data/extracted/TÁC HẠI/JSR-30-e13190.md\\ndoc_id:2e9bbb75-99b0-4e8f-a33a-913b80b0f961\\nTitle: Insomnia symptoms and non-suicidal self-injury in adolescence: understanding temporal relations and mechanisms\\n\\nContent:\\nLast, our sample included mainly Swedish adolescents. A small number of reviews show that Swedish adolescents are more likely to engage in NSSI than their European counterparts. Thus, our present findings may help Swedish practitioners to better tackle NSSI among adolescents, hopefully decreasing its frequency. However, given cultural variations, further studies are needed to replicate our present findings in other settings. Despite these strengths, the present study also has limitations. Specifically, we focussed our attention on only four possible mediators. Other potential mechanisms should be tested. For example, we assumed, but did not specifically test, the idea that insomnia generates negative arousal states leading to the use of NSSI as a way of regulating negative emotions. Future studies could focus on emotion regulation issues, confirming that the negative feelings aroused by depression. Other potential mechanisms linking dysfunctional beliefs and attitudes about sleep, as well as impaired decision-making and problem-solving, have been proposed as mechanisms that explain the effect of insomnia on suicidal thoughts and behaviours. Studies in these directions are needed. ## CONCLUSIONS\\nOur present study suggests a new approach to linking sleep and NSSI, merging the functional model of NSSI with the hyperarousal model of insomnia. We propose that insomnia and NSSI are bidirectionally linked via emotional, cognitive, and physiological arousal. We specifically looked at depression, impulsivity, worry and rumination but future research should replicate and further develop this model by expanding knowledge of possible mediators.\\n\\nPerhaps the most important message of the present study is that sleep difficulties and NSSI may be cyclically related, with depressive symptoms playing an important role in the escalation of NSSI. The bidirectionality between symptoms of insomnia and NSSI may suggest that these problems are either present at the same time (comorbidity) or there is an underlying condition that connects them. Because comorbidity is consistently associated with a greater demand for professional help as well as with greater interference with everyday life, future studies should use a more person-oriented approach to assess these possibilities.\\n\\nOur present findings also suggest that practitioners designing intervention efforts should target insomnia and the negative feelings it may generate for adolescents. Also, these findings have important implications for clinicians working with adolescents for at least three reasons. First, monitoring and assessing the adolescents’ sleep quality might allow the identification of a vulnerable group of adolescents, namely those who engage in NSSI. This early screening might prevent the engagement in more maladaptive behaviors, such as suicidal thoughts and conducts. Second, because better sleep might act as a protective factor against NSSI, treatments and interventions specifically designed to increase sleep quality, such as cognitive behavioural therapy for insomnia, might also be able to indirectly target NSSI. Last, given the private nature of NSSI, as well as the stigma around it, adolescents might be more prone to seek/receive treatment for sleep difficulties than for NSSI. Therefore, knowledge of the association between sleep and NSSI is very important for practitioners working with adolescents.\\n\\n---End Chunk---\\n\\n', additional_kwargs={'idx': 4, 'args': {'query': 'common causes of insomnia in teenagers'}}, response_metadata={}, name='retrieve_chunks', tool_call_id=4)]\n"
     ]
    }
   ],
   "source": [
    "res = plan_and_schedule.invoke({\"llm_compiler_messages\": chat_history})"
   ]
  },
  {
   "cell_type": "code",
   "execution_count": null,
   "metadata": {},
   "outputs": [],
   "source": []
  },
  {
   "cell_type": "code",
   "execution_count": null,
   "metadata": {},
   "outputs": [],
   "source": []
  },
  {
   "cell_type": "code",
   "execution_count": null,
   "metadata": {},
   "outputs": [],
   "source": []
  },
  {
   "cell_type": "code",
   "execution_count": null,
   "metadata": {},
   "outputs": [],
   "source": []
  }
 ],
 "metadata": {
  "kernelspec": {
   "display_name": "insomnia_chatbot_v2",
   "language": "python",
   "name": "python3"
  },
  "language_info": {
   "codemirror_mode": {
    "name": "ipython",
    "version": 3
   },
   "file_extension": ".py",
   "mimetype": "text/x-python",
   "name": "python",
   "nbconvert_exporter": "python",
   "pygments_lexer": "ipython3",
   "version": "3.11.10"
  }
 },
 "nbformat": 4,
 "nbformat_minor": 2
}
