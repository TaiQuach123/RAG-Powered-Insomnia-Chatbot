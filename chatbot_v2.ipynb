{
 "cells": [
  {
   "cell_type": "code",
   "execution_count": 1,
   "metadata": {},
   "outputs": [
    {
     "name": "stderr",
     "output_type": "stream",
     "text": [
      "/home/taiquach123471/anaconda3/envs/insomnia_chatbot_v2/lib/python3.11/site-packages/tqdm/auto.py:21: TqdmWarning: IProgress not found. Please update jupyter and ipywidgets. See https://ipywidgets.readthedocs.io/en/stable/user_install.html\n",
      "  from .autonotebook import tqdm as notebook_tqdm\n"
     ]
    },
    {
     "data": {
      "text/plain": [
       "<torch.autograd.grad_mode.set_grad_enabled at 0x71140a8abbd0>"
      ]
     },
     "execution_count": 1,
     "metadata": {},
     "output_type": "execute_result"
    }
   ],
   "source": [
    "from qdrant_client import QdrantClient, models\n",
    "\n",
    "from typing import TypedDict, List, Annotated\n",
    "import functools\n",
    "import operator\n",
    "from pydantic import BaseModel, Field\n",
    "\n",
    "import torch\n",
    "from transformers import AutoModel\n",
    "from FlagEmbedding import BGEM3FlagModel\n",
    "\n",
    "from RAGModule.retrieve import retrieve_relevant_chunks\n",
    "from RAGModule.utils import format_chunks\n",
    "\n",
    "from langchain_groq import ChatGroq\n",
    "from langchain_core.prompts import ChatPromptTemplate, MessagesPlaceholder\n",
    "from langchain_core.messages import BaseMessage, HumanMessage, AIMessage\n",
    "from langchain_core.output_parsers import StrOutputParser\n",
    "from langchain_core.tools import tool\n",
    "\n",
    "from langgraph.graph import START, END, StateGraph\n",
    "from langgraph.checkpoint.memory import MemorySaver\n",
    "\n",
    "\n",
    "from dotenv import load_dotenv\n",
    "load_dotenv()\n",
    "\n",
    "torch.set_grad_enabled(False)"
   ]
  },
  {
   "cell_type": "code",
   "execution_count": 2,
   "metadata": {},
   "outputs": [
    {
     "name": "stderr",
     "output_type": "stream",
     "text": [
      "Fetching 30 files: 100%|██████████| 30/30 [00:00<00:00, 49912.38it/s]\n",
      "/home/taiquach123471/anaconda3/envs/insomnia_chatbot_v2/lib/python3.11/site-packages/FlagEmbedding/BGE_M3/modeling.py:335: FutureWarning: You are using `torch.load` with `weights_only=False` (the current default value), which uses the default pickle module implicitly. It is possible to construct malicious pickle data which will execute arbitrary code during unpickling (See https://github.com/pytorch/pytorch/blob/main/SECURITY.md#untrusted-models for more details). In a future release, the default value for `weights_only` will be flipped to `True`. This limits the functions that could be executed during unpickling. Arbitrary objects will no longer be allowed to be loaded via this mode unless they are explicitly allowlisted by the user via `torch.serialization.add_safe_globals`. We recommend you start setting `weights_only=True` for any use case where you don't have full control of the loaded file. Please open an issue on GitHub for any issues related to this experimental feature.\n",
      "  colbert_state_dict = torch.load(os.path.join(model_dir, 'colbert_linear.pt'), map_location='cpu')\n",
      "/home/taiquach123471/anaconda3/envs/insomnia_chatbot_v2/lib/python3.11/site-packages/FlagEmbedding/BGE_M3/modeling.py:336: FutureWarning: You are using `torch.load` with `weights_only=False` (the current default value), which uses the default pickle module implicitly. It is possible to construct malicious pickle data which will execute arbitrary code during unpickling (See https://github.com/pytorch/pytorch/blob/main/SECURITY.md#untrusted-models for more details). In a future release, the default value for `weights_only` will be flipped to `True`. This limits the functions that could be executed during unpickling. Arbitrary objects will no longer be allowed to be loaded via this mode unless they are explicitly allowlisted by the user via `torch.serialization.add_safe_globals`. We recommend you start setting `weights_only=True` for any use case where you don't have full control of the loaded file. Please open an issue on GitHub for any issues related to this experimental feature.\n",
      "  sparse_state_dict = torch.load(os.path.join(model_dir, 'sparse_linear.pt'), map_location='cpu')\n",
      "flash_attn is not installed. Using PyTorch native attention implementation.\n",
      "flash_attn is not installed. Using PyTorch native attention implementation.\n",
      "flash_attn is not installed. Using PyTorch native attention implementation.\n",
      "flash_attn is not installed. Using PyTorch native attention implementation.\n",
      "flash_attn is not installed. Using PyTorch native attention implementation.\n",
      "flash_attn is not installed. Using PyTorch native attention implementation.\n",
      "flash_attn is not installed. Using PyTorch native attention implementation.\n",
      "flash_attn is not installed. Using PyTorch native attention implementation.\n",
      "flash_attn is not installed. Using PyTorch native attention implementation.\n",
      "flash_attn is not installed. Using PyTorch native attention implementation.\n",
      "flash_attn is not installed. Using PyTorch native attention implementation.\n",
      "flash_attn is not installed. Using PyTorch native attention implementation.\n",
      "flash_attn is not installed. Using PyTorch native attention implementation.\n",
      "flash_attn is not installed. Using PyTorch native attention implementation.\n",
      "flash_attn is not installed. Using PyTorch native attention implementation.\n",
      "flash_attn is not installed. Using PyTorch native attention implementation.\n",
      "flash_attn is not installed. Using PyTorch native attention implementation.\n",
      "flash_attn is not installed. Using PyTorch native attention implementation.\n",
      "flash_attn is not installed. Using PyTorch native attention implementation.\n",
      "flash_attn is not installed. Using PyTorch native attention implementation.\n",
      "flash_attn is not installed. Using PyTorch native attention implementation.\n",
      "flash_attn is not installed. Using PyTorch native attention implementation.\n",
      "flash_attn is not installed. Using PyTorch native attention implementation.\n",
      "flash_attn is not installed. Using PyTorch native attention implementation.\n",
      "flash_attn is not installed. Using PyTorch native attention implementation.\n"
     ]
    }
   ],
   "source": [
    "client = QdrantClient(\"http://localhost:6333\")\n",
    "llm = ChatGroq(model=\"llama-3.1-70b-versatile\", temperature=0)\n",
    "bge_m3 = BGEM3FlagModel('BAAI/bge-m3', use_fp16=True)\n",
    "jina_v3 = AutoModel.from_pretrained(\"jinaai/jina-embeddings-v3\", trust_remote_code=True).to('cuda')"
   ]
  },
  {
   "cell_type": "code",
   "execution_count": 3,
   "metadata": {},
   "outputs": [],
   "source": [
    "retrieve_relevant_chunks = functools.partial(retrieve_relevant_chunks, jina_embedding = jina_v3, bge_embedding = bge_m3, client = client)"
   ]
  },
  {
   "cell_type": "code",
   "execution_count": 4,
   "metadata": {},
   "outputs": [],
   "source": [
    "class RewriterResponse(BaseModel):\n",
    "    \"\"\"Response from the rewriter - a LLM that rewrites the user's query based on provided context (chat history)\"\"\"\n",
    "    response: str = Field(description=\"The rewritten query or a request for clarification (if the user's query is unclear)\")\n",
    "    need_clarification: bool = Field(description=\"Indicates if the rewriter requires clarification from the user to effectively rewrite the user's query.\")\n",
    "\n",
    "class QueryAnalysis(BaseModel):\n",
    "    \"\"\"Analyzes a query and context to determine the next action for a LLM.\"\"\"\n",
    "    route: str = Field(description=\"Action route based on query analysis. 'answer' if the query and context are sufficient for a direct response, 'retrieve' if additional information is needed from a vector store.\")\n",
    "\n",
    "class State(TypedDict):\n",
    "    messages: Annotated[List[BaseMessage], operator.add]\n",
    "    rewriter_response: RewriterResponse\n",
    "    query_analysis: QueryAnalysis\n",
    "    documents: list"
   ]
  },
  {
   "cell_type": "code",
   "execution_count": 5,
   "metadata": {},
   "outputs": [],
   "source": [
    "query_analyzer_system_prompt = \"\"\"You are an intelligent assistant responsible for analyzing a given chat history (context) and a user's query to determine the appropriate action. Based on your analysis:\n",
    "Respond with 'answer' if the context is sufficient to address the query.\n",
    "Respond with 'retrieve' if additional information is needed.\"\"\"\n",
    "\n",
    "query_analyzer_prompt = ChatPromptTemplate.from_messages([\n",
    "    (\"system\", query_analyzer_system_prompt),\n",
    "    MessagesPlaceholder(variable_name=\"messages\")\n",
    "])\n",
    "\n",
    "query_analyzer_chain = query_analyzer_prompt | llm.with_structured_output(QueryAnalysis)"
   ]
  },
  {
   "cell_type": "code",
   "execution_count": 6,
   "metadata": {},
   "outputs": [],
   "source": [
    "rewriter_system_prompt = \"\"\"You are an assistant specialized in rewriting queries for optimized information retrieval. Your primary responsibilities are:\n",
    "1. Convert the user's latest query, along with relevant history (if possible), into a standalone query that accurately reflects the user's intent and provides sufficient context for retrieval from a vector database. This query can be decomposed into simpler sub-queries if the original query is complex.\n",
    "2. If the latest query is already clear and complete, make no changes.\n",
    "3. If the latest query and chat history cannot be used to form a coherent or complete query (e.g., no chat history and the user's query is ambiguous), gently request clarification from the user. Kindly ask: \"Could you please provide more details about [specific aspect of the query]?\"\n",
    "Output only the rewritten query or the request for clarification. Do not explain or answer the query.\n",
    "\"\"\"\n",
    "\n",
    "rewriter_prompt = ChatPromptTemplate.from_messages([\n",
    "    (\"system\", rewriter_system_prompt),\n",
    "    MessagesPlaceholder(variable_name=\"messages\"),\n",
    "])\n",
    "\n",
    "rewriter_chain = rewriter_prompt | llm.with_structured_output(RewriterResponse)"
   ]
  },
  {
   "cell_type": "code",
   "execution_count": 7,
   "metadata": {},
   "outputs": [],
   "source": [
    "system_prompt = \"\"\"You are an AI chatbot designed to answer questions about insomnia using context retrieved from scientific articles and previous chat history. Your goal is to provide clear, evidence-based responses and practical advice to help users. Following those instructions:\n",
    "\n",
    "1. Use the information provided within the <context> tags regarding insomnia whenever available.\n",
    "2. If no <context> is provided but the chat history provides sufficient information to address the user's query, use the chat history.\n",
    "3. If a question is unclear or needs more context, ask the user for clarification.\n",
    "\n",
    "<context>\n",
    "{context}\n",
    "</context>\n",
    "\"\"\"\n",
    "\n",
    "prompt = ChatPromptTemplate.from_messages([\n",
    "    (\"system\", system_prompt),\n",
    "    MessagesPlaceholder(\"messages\"),\n",
    "])\n",
    "\n",
    "response_llm = prompt | llm"
   ]
  },
  {
   "cell_type": "code",
   "execution_count": 8,
   "metadata": {},
   "outputs": [],
   "source": [
    "def query_analyzer(state: State):\n",
    "    query_analyzer_response: QueryAnalysis = query_analyzer_chain.invoke({\"messages\": state[\"messages\"]})\n",
    "    return {\"query_analysis\": query_analyzer_response}\n",
    "\n",
    "def rewriter(state: State):\n",
    "    rewriter_response: RewriterResponse = rewriter_chain.invoke({\"messages\": state[\"messages\"]})\n",
    "    if rewriter_response.need_clarification:\n",
    "        return {\"rewriter_response\": rewriter_response, \"messages\": [AIMessage(rewriter_response.response)]}\n",
    "    return {\"rewriter_response\": rewriter_response}\n",
    "\n",
    "def generate_response(state: State):\n",
    "    response =response_llm.invoke(input={\"messages\": state['messages'], \"context\": format_chunks(state['documents'])})\n",
    "    return {\"messages\": [response]}\n",
    "\n",
    "def ask_human(state: State):\n",
    "    pass\n",
    "\n",
    "def query_analyzer_route(state: State):\n",
    "    if state[\"query_analysis\"].route == \"retrieve\":\n",
    "        return \"rewriter\"\n",
    "    return \"responder\"\n",
    "\n",
    "def rewriter_route(state: State):\n",
    "    if state[\"rewriter_response\"].need_clarification:\n",
    "        return \"ask_human\"\n",
    "    return \"retrieve\"\n",
    "\n",
    "def retrieve_from_vectorstore(state: State):\n",
    "    relevant_chunks = retrieve_relevant_chunks(state['rewriter_response'].response)\n",
    "    return {\"documents\": relevant_chunks}"
   ]
  },
  {
   "cell_type": "code",
   "execution_count": 9,
   "metadata": {},
   "outputs": [
    {
     "data": {
      "text/plain": [
       "<langgraph.graph.state.StateGraph at 0x711409e3db90>"
      ]
     },
     "execution_count": 9,
     "metadata": {},
     "output_type": "execute_result"
    }
   ],
   "source": [
    "graph_builder = StateGraph(State)\n",
    "\n",
    "graph_builder.add_node(\"query_analyzer\", query_analyzer)\n",
    "graph_builder.add_node(\"rewriter\", rewriter)\n",
    "graph_builder.add_node(\"ask_human\", ask_human)\n",
    "graph_builder.add_node(\"responder\", generate_response)\n",
    "graph_builder.add_node(\"retrieve\", retrieve_from_vectorstore)\n",
    "\n",
    "graph_builder.add_edge(START, \"query_analyzer\")\n",
    "graph_builder.add_conditional_edges(\"rewriter\", rewriter_route, {\"ask_human\": \"ask_human\", \"retrieve\": \"retrieve\"})\n",
    "graph_builder.add_conditional_edges(\"query_analyzer\", query_analyzer_route, {\"rewriter\": \"rewriter\", \"responder\": \"responder\"})\n",
    "graph_builder.add_edge(\"ask_human\", \"rewriter\")\n",
    "graph_builder.add_edge(\"retrieve\", \"responder\")\n"
   ]
  },
  {
   "cell_type": "code",
   "execution_count": 10,
   "metadata": {},
   "outputs": [],
   "source": [
    "graph = graph_builder.compile(checkpointer=MemorySaver(), interrupt_before=[\"ask_human\"])"
   ]
  },
  {
   "cell_type": "code",
   "execution_count": 11,
   "metadata": {},
   "outputs": [
    {
     "data": {
      "image/jpeg": "[encoded data removed]",
      "text/plain": [
       "<IPython.core.display.Image object>"
      ]
     },
     "metadata": {},
     "output_type": "display_data"
    }
   ],
   "source": [
    "from IPython.display import Image, display\n",
    "\n",
    "try:\n",
    "    display(Image(graph.get_graph().draw_mermaid_png()))\n",
    "except Exception:\n",
    "    # This requires some extra dependencies and is optional\n",
    "    pass"
   ]
  },
  {
   "cell_type": "code",
   "execution_count": 32,
   "metadata": {},
   "outputs": [],
   "source": [
    "config = {\"configurable\": {\"thread_id\": \"20\"}}"
   ]
  },
  {
   "cell_type": "code",
   "execution_count": 33,
   "metadata": {},
   "outputs": [
    {
     "name": "stdout",
     "output_type": "stream",
     "text": [
      "================================\u001b[1m Human Message \u001b[0m=================================\n",
      "\n",
      "How caffeine can affect my health\n",
      "==================================\u001b[1m Ai Message \u001b[0m==================================\n",
      "\n",
      "Caffeine can have both positive and negative effects on your health, depending on the amount consumed and individual sensitivity. Based on the provided context, here are some potential effects of caffeine on your health:\n",
      "\n",
      "**Negative effects:**\n",
      "\n",
      "1. **Sleep disturbances**: Caffeine can interfere with sleep patterns, leading to insomnia, daytime sleepiness, and other sleep-related problems.\n",
      "2. **Anxiety and nervousness**: High levels of caffeine can cause feelings of anxiety, jitteriness, and an increased heart rate.\n",
      "3. **Increased heart rate and blood pressure**: Caffeine can increase heart rate and blood pressure, which may be problematic for people with pre-existing heart conditions.\n",
      "4. **Dehydration**: Caffeine is a diuretic, which means that it can lead to dehydration if not balanced with sufficient water intake.\n",
      "5. **Headaches and stomach problems**: Caffeine can cause headaches, stomach upset, and nausea in some individuals.\n",
      "6. **Addiction and withdrawal**: Caffeine is a mildly addictive substance, and regular consumption can lead to physical dependence and withdrawal symptoms when trying to quit.\n",
      "\n",
      "**Positive effects:**\n",
      "\n",
      "1. **Cognitive function**: Caffeine can improve alertness, focus, and mental performance, particularly in tasks that require attention and concentration.\n",
      "2. **Physical performance**: Caffeine can increase muscle contraction force and endurance, which may be beneficial for athletes and individuals who engage in regular physical activity.\n",
      "3. **Mood enhancement**: Caffeine can have a mild mood-enhancing effect, which may be beneficial for people who experience depression or anxiety.\n",
      "\n",
      "**Special considerations:**\n",
      "\n",
      "1. **Children and adolescents**: Caffeine can have negative effects on developing brains and bodies, including increased heart rate, blood pressure, and anxiety.\n",
      "2. **Pregnancy and breastfeeding**: High levels of caffeine consumption may increase the risk of miscarriage, growth restriction, and other pregnancy complications.\n",
      "3. **Sensitivity and individual tolerance**: Some people may be more sensitive to the effects of caffeine due to genetic variations, body weight, or other factors.\n",
      "\n",
      "To minimize potential negative effects and maximize benefits, consider the following:\n",
      "\n",
      "1. **Consume caffeine in moderation**: Limit daily caffeine intake to 200-300 mg (about 1-2 cups of coffee).\n",
      "2. **Be mindful of caffeine sources**: Caffeine is not only found in coffee, but also in tea, energy drinks, chocolate, and some medications.\n",
      "3. **Avoid mixing caffeine with other stimulants**: Combining caffeine with other stimulants, such as energy drinks or certain medications, can increase the risk of adverse effects.\n",
      "4. **Stay hydrated**: Drink plenty of water to balance out the diuretic effects of caffeine.\n",
      "5. **Monitor your body's response**: Pay attention to how caffeine affects you and adjust your consumption accordingly.\n",
      "\n",
      "Remember that individual tolerance and sensitivity to caffeine can vary greatly. If you experience any negative effects or concerns, consider consulting with a healthcare professional for personalized advice.\n",
      "None\n",
      "================================\u001b[1m Human Message \u001b[0m=================================\n",
      "\n",
      "tell me more about ...\n",
      "==================================\u001b[1m Ai Message \u001b[0m==================================\n",
      "\n",
      "Could you please provide more details about what you would like to know more about regarding caffeine's effects on your health?\n",
      "None\n",
      "================================\u001b[1m Human Message \u001b[0m=================================\n",
      "\n",
      "q\n"
     ]
    }
   ],
   "source": [
    "is_first = True\n",
    "while True:\n",
    "    query = input()\n",
    "    HumanMessage(query).pretty_print()\n",
    "\n",
    "    if query == \"q\":\n",
    "        break\n",
    "\n",
    "    try:\n",
    "        if graph.get_state(config).next[0] == 'ask_human':\n",
    "            is_first = False\n",
    "            graph.update_state(config, {\"messages\": [HumanMessage(content = query)]}, as_node=\"ask_human\")\n",
    "    except:\n",
    "        pass\n",
    "        \n",
    "        \n",
    "    \n",
    "    for event in graph.stream({\"messages\": [HumanMessage(content = query)]} if is_first else None, config=config, stream_mode=\"values\"):\n",
    "        pass\n",
    "    \n",
    "    print(graph.get_state(config).values['messages'][-1].pretty_print())\n"
   ]
  },
  {
   "cell_type": "code",
   "execution_count": null,
   "metadata": {},
   "outputs": [],
   "source": []
  }
 ],
 "metadata": {
  "kernelspec": {
   "display_name": "insomnia_chatbot_v2",
   "language": "python",
   "name": "python3"
  },
  "language_info": {
   "codemirror_mode": {
    "name": "ipython",
    "version": 3
   },
   "file_extension": ".py",
   "mimetype": "text/x-python",
   "name": "python",
   "nbconvert_exporter": "python",
   "pygments_lexer": "ipython3",
   "version": "3.11.10"
  }
 },
 "nbformat": 4,
 "nbformat_minor": 2
}
