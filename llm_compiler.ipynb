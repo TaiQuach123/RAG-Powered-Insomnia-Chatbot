{
 "cells": [
  {
   "cell_type": "code",
   "execution_count": 1,
   "metadata": {},
   "outputs": [
    {
     "name": "stderr",
     "output_type": "stream",
     "text": [
      "/home/taiquach123471/anaconda3/envs/insomnia_chatbot_v2/lib/python3.11/site-packages/tqdm/auto.py:21: TqdmWarning: IProgress not found. Please update jupyter and ipywidgets. See https://ipywidgets.readthedocs.io/en/stable/user_install.html\n",
      "  from .autonotebook import tqdm as notebook_tqdm\n"
     ]
    },
    {
     "ename": "ModuleNotFoundError",
     "evalue": "No module named 'llm_compiler.output_parser'",
     "output_type": "error",
     "traceback": [
      "\u001b[0;31m---------------------------------------------------------------------------\u001b[0m",
      "\u001b[0;31mModuleNotFoundError\u001b[0m                       Traceback (most recent call last)",
      "Cell \u001b[0;32mIn[1], line 19\u001b[0m\n\u001b[1;32m     17\u001b[0m \u001b[38;5;28;01mfrom\u001b[39;00m \u001b[38;5;21;01mlangchain_core\u001b[39;00m\u001b[38;5;21;01m.\u001b[39;00m\u001b[38;5;21;01mrunnables\u001b[39;00m \u001b[38;5;28;01mimport\u001b[39;00m RunnableBranch\n\u001b[1;32m     18\u001b[0m \u001b[38;5;28;01mfrom\u001b[39;00m \u001b[38;5;21;01mlangchain_groq\u001b[39;00m \u001b[38;5;28;01mimport\u001b[39;00m ChatGroq\n\u001b[0;32m---> 19\u001b[0m \u001b[38;5;28;01mfrom\u001b[39;00m \u001b[38;5;21;01mllm_compiler\u001b[39;00m\u001b[38;5;21;01m.\u001b[39;00m\u001b[38;5;21;01moutput_parser\u001b[39;00m \u001b[38;5;28;01mimport\u001b[39;00m LLMCompilerPlanParser, Task\n\u001b[1;32m     21\u001b[0m \u001b[38;5;28;01mimport\u001b[39;00m \u001b[38;5;21;01mre\u001b[39;00m\n\u001b[1;32m     22\u001b[0m \u001b[38;5;28;01mimport\u001b[39;00m \u001b[38;5;21;01mtime\u001b[39;00m\n",
      "\u001b[0;31mModuleNotFoundError\u001b[0m: No module named 'llm_compiler.output_parser'"
     ]
    }
   ],
   "source": [
    "from qdrant_client import QdrantClient\n",
    "\n",
    "from RAGModule.retrieve import retrieve_relevant_chunks\n",
    "from RAGModule.utils import format_chunks\n",
    "\n",
    "from typing import Sequence\n",
    "\n",
    "from langchain_core.language_models import BaseChatModel\n",
    "from langchain_core.tools import BaseTool, tool\n",
    "from langchain_core.messages import (\n",
    "    BaseMessage,\n",
    "    FunctionMessage,\n",
    "    HumanMessage,\n",
    "    SystemMessage,\n",
    ")\n",
    "from langchain_core.prompts import ChatPromptTemplate, MessagesPlaceholder\n",
    "from langchain_core.runnables import RunnableBranch\n",
    "from langchain_groq import ChatGroq\n",
    "from llm_compiler.output_parser import LLMCompilerPlanParser, Task\n",
    "\n",
    "import re\n",
    "import time\n",
    "from concurrent.futures import ThreadPoolExecutor, wait\n",
    "from typing import Any, Dict, Iterable, List, Union\n",
    "\n",
    "from langchain_core.runnables import (\n",
    "    chain as as_runnable,\n",
    ")\n",
    "from typing_extensions import TypedDict\n",
    "\n",
    "import functools\n",
    "import itertools\n",
    "\n",
    "\n",
    "import torch\n",
    "from transformers import AutoModel\n",
    "from FlagEmbedding import BGEM3FlagModel\n",
    "\n",
    "torch.set_grad_enabled(False)\n",
    "\n",
    "from dotenv import load_dotenv\n",
    "load_dotenv()"
   ]
  },
  {
   "cell_type": "code",
   "execution_count": null,
   "metadata": {},
   "outputs": [],
   "source": [
    "with open(\"llm_compiler_prompt.txt\") as f:\n",
    "    system_prompt_v2 = f.read()\n",
    "\n",
    "with open(\"joiner_prompt.txt\") as f:\n",
    "    system_joiner_prompt = f.read()\n",
    "\n",
    "prompt_v2 = ChatPromptTemplate([\n",
    "    (\"system\", system_prompt_v2),\n",
    "    MessagesPlaceholder(variable_name=\"messages\"),\n",
    "    (\"system\", \"Remember, ONLY respond with the task list in the correct format! E.g.:\\nidx. tool(arg_name=args)\")\n",
    "])\n",
    "\n",
    "joiner_prompt = ChatPromptTemplate([\n",
    "    (\"system\", system_joiner_prompt),\n",
    "    MessagesPlaceholder(variable_name=\"messages\")\n",
    "])"
   ]
  },
  {
   "cell_type": "code",
   "execution_count": null,
   "metadata": {},
   "outputs": [
    {
     "name": "stderr",
     "output_type": "stream",
     "text": [
      "Fetching 30 files: 100%|██████████| 30/30 [00:00<00:00, 26664.36it/s]\n",
      "/home/taiquach123471/anaconda3/envs/insomnia_chatbot_v2/lib/python3.11/site-packages/FlagEmbedding/BGE_M3/modeling.py:335: FutureWarning: You are using `torch.load` with `weights_only=False` (the current default value), which uses the default pickle module implicitly. It is possible to construct malicious pickle data which will execute arbitrary code during unpickling (See https://github.com/pytorch/pytorch/blob/main/SECURITY.md#untrusted-models for more details). In a future release, the default value for `weights_only` will be flipped to `True`. This limits the functions that could be executed during unpickling. Arbitrary objects will no longer be allowed to be loaded via this mode unless they are explicitly allowlisted by the user via `torch.serialization.add_safe_globals`. We recommend you start setting `weights_only=True` for any use case where you don't have full control of the loaded file. Please open an issue on GitHub for any issues related to this experimental feature.\n",
      "  colbert_state_dict = torch.load(os.path.join(model_dir, 'colbert_linear.pt'), map_location='cpu')\n",
      "/home/taiquach123471/anaconda3/envs/insomnia_chatbot_v2/lib/python3.11/site-packages/FlagEmbedding/BGE_M3/modeling.py:336: FutureWarning: You are using `torch.load` with `weights_only=False` (the current default value), which uses the default pickle module implicitly. It is possible to construct malicious pickle data which will execute arbitrary code during unpickling (See https://github.com/pytorch/pytorch/blob/main/SECURITY.md#untrusted-models for more details). In a future release, the default value for `weights_only` will be flipped to `True`. This limits the functions that could be executed during unpickling. Arbitrary objects will no longer be allowed to be loaded via this mode unless they are explicitly allowlisted by the user via `torch.serialization.add_safe_globals`. We recommend you start setting `weights_only=True` for any use case where you don't have full control of the loaded file. Please open an issue on GitHub for any issues related to this experimental feature.\n",
      "  sparse_state_dict = torch.load(os.path.join(model_dir, 'sparse_linear.pt'), map_location='cpu')\n",
      "flash_attn is not installed. Using PyTorch native attention implementation.\n",
      "flash_attn is not installed. Using PyTorch native attention implementation.\n",
      "flash_attn is not installed. Using PyTorch native attention implementation.\n",
      "flash_attn is not installed. Using PyTorch native attention implementation.\n",
      "flash_attn is not installed. Using PyTorch native attention implementation.\n",
      "flash_attn is not installed. Using PyTorch native attention implementation.\n",
      "flash_attn is not installed. Using PyTorch native attention implementation.\n",
      "flash_attn is not installed. Using PyTorch native attention implementation.\n",
      "flash_attn is not installed. Using PyTorch native attention implementation.\n",
      "flash_attn is not installed. Using PyTorch native attention implementation.\n",
      "flash_attn is not installed. Using PyTorch native attention implementation.\n",
      "flash_attn is not installed. Using PyTorch native attention implementation.\n",
      "flash_attn is not installed. Using PyTorch native attention implementation.\n",
      "flash_attn is not installed. Using PyTorch native attention implementation.\n",
      "flash_attn is not installed. Using PyTorch native attention implementation.\n",
      "flash_attn is not installed. Using PyTorch native attention implementation.\n",
      "flash_attn is not installed. Using PyTorch native attention implementation.\n",
      "flash_attn is not installed. Using PyTorch native attention implementation.\n",
      "flash_attn is not installed. Using PyTorch native attention implementation.\n",
      "flash_attn is not installed. Using PyTorch native attention implementation.\n",
      "flash_attn is not installed. Using PyTorch native attention implementation.\n",
      "flash_attn is not installed. Using PyTorch native attention implementation.\n",
      "flash_attn is not installed. Using PyTorch native attention implementation.\n",
      "flash_attn is not installed. Using PyTorch native attention implementation.\n",
      "flash_attn is not installed. Using PyTorch native attention implementation.\n"
     ]
    }
   ],
   "source": [
    "client = QdrantClient(\"http://localhost:6333\")\n",
    "llm = ChatGroq(model=\"llama-3.1-70b-versatile\", temperature=0)\n",
    "bge_m3 = BGEM3FlagModel('BAAI/bge-m3', use_fp16=True)\n",
    "jina_v3 = AutoModel.from_pretrained(\"jinaai/jina-embeddings-v3\", trust_remote_code=True).to('cuda')"
   ]
  },
  {
   "cell_type": "code",
   "execution_count": null,
   "metadata": {},
   "outputs": [],
   "source": [
    "system_prompt = \"\"\"You are an AI chatbot designed to answer questions about insomnia using context retrieved from scientific articles and previous chat history. Your goal is to provide clear, evidence-based responses and practical advice to help users. Following those instructions:\n",
    "\n",
    "1. Use the information provided within the <context> tags regarding insomnia whenever available.\n",
    "2. If no <context> is provided but the chat history provides sufficient information to address the user's query, use the chat history.\n",
    "3. If a question is unclear or needs more context, ask the user for clarification.\n",
    "\n",
    "<context>\n",
    "{context}\n",
    "</context>\n",
    "\"\"\"\n",
    "\n",
    "response_prompt = ChatPromptTemplate.from_messages([\n",
    "    (\"system\", system_prompt),\n",
    "    MessagesPlaceholder(\"messages\"),\n",
    "])\n",
    "\n",
    "response_llm = response_prompt | llm"
   ]
  },
  {
   "cell_type": "code",
   "execution_count": null,
   "metadata": {},
   "outputs": [],
   "source": [
    "retrieve_relevant_chunks = functools.partial(retrieve_relevant_chunks, jina_embedding = jina_v3, bge_embedding = bge_m3, client = client)\n",
    "\n",
    "@tool\n",
    "def retrieve_and_answer(query: str) -> str:\n",
    "    \"\"\"retrieve_and_answer(query=\"the search query\") - This tool retrieves relevant information from a vector store containing insomnia-related data. \\nBased on the retrieved information, it generates a precise answer to the user's query. The tool is designed to handle various types of questions, from simple factual queries to more complex, multi-hop inquiries, by leveraging both dense and sparse vectors for optimal retrieval performance.\"\"\"\n",
    "    \n",
    "    relevant_chunks = retrieve_relevant_chunks(query=query)\n",
    "    relevant_chunks = format_chunks(relevant_chunks)\n",
    "\n",
    "    response = response_llm.invoke({\"messages\": [HumanMessage(content = query)], \"context\": relevant_chunks})\n",
    "\n",
    "    return response"
   ]
  },
  {
   "cell_type": "code",
   "execution_count": null,
   "metadata": {},
   "outputs": [],
   "source": [
    "tools = [retrieve_and_answer]"
   ]
  },
  {
   "cell_type": "code",
   "execution_count": null,
   "metadata": {},
   "outputs": [],
   "source": [
    "def create_planner(\n",
    "    llm: BaseChatModel, tools: Sequence[BaseTool], base_prompt: ChatPromptTemplate\n",
    "):\n",
    "    tool_descriptions = \"\\n\".join(\n",
    "        f\"{i+1}. {tool.description}\\n\"\n",
    "        for i, tool in enumerate(\n",
    "            tools\n",
    "        )  # +1 to offset the 0 starting index, we want it count normally from 1.\n",
    "    )\n",
    "    planner_prompt = base_prompt.partial(\n",
    "        replan=\"\",\n",
    "        num_tools=len(tools)\n",
    "        + 1,  # Add one because we're adding the join() tool at the end.\n",
    "        tool_descriptions=tool_descriptions,\n",
    "    )\n",
    "\n",
    "    replanner_prompt = base_prompt.partial(\n",
    "        replan=' - You are given \"Previous Plan\" which is the plan that the previous agent created along with the execution results '\n",
    "        \"(given as Observation) of each plan and a general thought (given as Thought) about the executed results.\"\n",
    "        'You MUST use these information to create the next plan under \"Current Plan\".\\n'\n",
    "        ' - When starting the Current Plan, you should start with \"Thought\" that outlines the strategy for the next plan.\\n'\n",
    "        \" - In the Current Plan, you should NEVER repeat the actions that are already executed in the Previous Plan.\\n\"\n",
    "        \" - You must continue the task index from the end of the previous one. Do not repeat task indices.\",\n",
    "        num_tools=len(tools) + 1,\n",
    "        tool_descriptions=tool_descriptions,\n",
    "    )\n",
    "\n",
    "    def should_replan(state: list):\n",
    "        # Context is passed as a system message\n",
    "        return isinstance(state[-1], SystemMessage)\n",
    "\n",
    "    def wrap_messages(state: list):\n",
    "        return {\"messages\": state}\n",
    "\n",
    "    def wrap_and_get_last_index(state: list):\n",
    "        next_task = 0\n",
    "        for message in state[::-1]:\n",
    "            if isinstance(message, FunctionMessage):\n",
    "                next_task = message.additional_kwargs[\"idx\"] + 1\n",
    "                break\n",
    "        state[-1].content = state[-1].content + f\" - Begin counting at : {next_task}\"\n",
    "        return {\"messages\": state}\n",
    "\n",
    "    return (\n",
    "        RunnableBranch(\n",
    "            (should_replan, wrap_and_get_last_index | replanner_prompt),\n",
    "            wrap_messages | planner_prompt,\n",
    "        )\n",
    "        | llm\n",
    "        | LLMCompilerPlanParser(tools=tools)\n",
    "    )\n",
    "\n",
    "planner = create_planner(llm, tools, prompt_v2)"
   ]
  },
  {
   "cell_type": "code",
   "execution_count": null,
   "metadata": {},
   "outputs": [],
   "source": [
    "def _get_observations(messages: List[BaseMessage]) -> Dict[int, Any]:\n",
    "    # Get all previous tool responses\n",
    "    results = {}\n",
    "    for message in messages[::-1]:\n",
    "        if isinstance(message, FunctionMessage):\n",
    "            results[int(message.additional_kwargs[\"idx\"])] = message.content\n",
    "    return results\n",
    "\n",
    "\n",
    "class SchedulerInput(TypedDict):\n",
    "    messages: List[BaseMessage]\n",
    "    tasks: Iterable[Task]\n",
    "\n",
    "\n",
    "def _execute_task(task, observations, config):\n",
    "    tool_to_use = task[\"tool\"]\n",
    "    if isinstance(tool_to_use, str):\n",
    "        return tool_to_use\n",
    "    args = task[\"args\"]\n",
    "    try:\n",
    "        if isinstance(args, str):\n",
    "            resolved_args = _resolve_arg(args, observations)\n",
    "        elif isinstance(args, dict):\n",
    "            resolved_args = {\n",
    "                key: _resolve_arg(val, observations) for key, val in args.items()\n",
    "            }\n",
    "        else:\n",
    "            # This will likely fail\n",
    "            resolved_args = args\n",
    "    except Exception as e:\n",
    "        return (\n",
    "            f\"ERROR(Failed to call {tool_to_use.name} with args {args}.)\"\n",
    "            f\" Args could not be resolved. Error: {repr(e)}\"\n",
    "        )\n",
    "    try:\n",
    "        return tool_to_use.invoke(resolved_args, config)\n",
    "    except Exception as e:\n",
    "        return (\n",
    "            f\"ERROR(Failed to call {tool_to_use.name} with args {args}.\"\n",
    "            + f\" Args resolved to {resolved_args}. Error: {repr(e)})\"\n",
    "        )\n",
    "\n",
    "\n",
    "def _resolve_arg(arg: Union[str, Any], observations: Dict[int, Any]):\n",
    "    # $1 or ${1} -> 1\n",
    "    ID_PATTERN = r\"\\$\\{?(\\d+)\\}?\"\n",
    "\n",
    "    def replace_match(match):\n",
    "        # If the string is ${123}, match.group(0) is ${123}, and match.group(1) is 123.\n",
    "\n",
    "        # Return the match group, in this case the index, from the string. This is the index\n",
    "        # number we get back.\n",
    "        idx = int(match.group(1))\n",
    "        return str(observations.get(idx, match.group(0)))\n",
    "\n",
    "    # For dependencies on other tasks\n",
    "    if isinstance(arg, str):\n",
    "        return re.sub(ID_PATTERN, replace_match, arg)\n",
    "    elif isinstance(arg, list):\n",
    "        return [_resolve_arg(a, observations) for a in arg]\n",
    "    else:\n",
    "        return str(arg)\n",
    "\n",
    "\n",
    "@as_runnable\n",
    "def schedule_task(task_inputs, config):\n",
    "    task: Task = task_inputs[\"task\"]\n",
    "    observations: Dict[int, Any] = task_inputs[\"observations\"]\n",
    "    try:\n",
    "        observation = _execute_task(task, observations, config)\n",
    "    except Exception:\n",
    "        import traceback\n",
    "\n",
    "        observation = traceback.format_exception()  # repr(e) +\n",
    "    observations[task[\"idx\"]] = observation\n",
    "\n",
    "\n",
    "def schedule_pending_task(\n",
    "    task: Task, observations: Dict[int, Any], retry_after: float = 0.2\n",
    "):\n",
    "    while True:\n",
    "        deps = task[\"dependencies\"]\n",
    "        if deps and (any([dep not in observations for dep in deps])):\n",
    "            # Dependencies not yet satisfied\n",
    "            time.sleep(retry_after)\n",
    "            continue\n",
    "        schedule_task.invoke({\"task\": task, \"observations\": observations})\n",
    "        break\n",
    "\n",
    "\n",
    "@as_runnable\n",
    "def schedule_tasks(scheduler_input: SchedulerInput) -> List[FunctionMessage]:\n",
    "    \"\"\"Group the tasks into a DAG schedule.\"\"\"\n",
    "    # For streaming, we are making a few simplifying assumption:\n",
    "    # 1. The LLM does not create cyclic dependencies\n",
    "    # 2. That the LLM will not generate tasks with future deps\n",
    "    # If this ceases to be a good assumption, you can either\n",
    "    # adjust to do a proper topological sort (not-stream)\n",
    "    # or use a more complicated data structure\n",
    "    tasks = scheduler_input[\"tasks\"]\n",
    "    args_for_tasks = {}\n",
    "    messages = scheduler_input[\"messages\"]\n",
    "    # If we are re-planning, we may have calls that depend on previous\n",
    "    # plans. Start with those.\n",
    "    observations = _get_observations(messages)\n",
    "    task_names = {}\n",
    "    originals = set(observations)\n",
    "    # ^^ We assume each task inserts a different key above to\n",
    "    # avoid race conditions...\n",
    "    futures = []\n",
    "    retry_after = 0.25  # Retry every quarter second\n",
    "    with ThreadPoolExecutor() as executor:\n",
    "        for task in tasks:\n",
    "            deps = task[\"dependencies\"]\n",
    "            task_names[task[\"idx\"]] = (\n",
    "                task[\"tool\"] if isinstance(task[\"tool\"], str) else task[\"tool\"].name\n",
    "            )\n",
    "            args_for_tasks[task[\"idx\"]] = task[\"args\"]\n",
    "            if (\n",
    "                # Depends on other tasks\n",
    "                deps and (any([dep not in observations for dep in deps]))\n",
    "            ):\n",
    "                futures.append(\n",
    "                    executor.submit(\n",
    "                        schedule_pending_task, task, observations, retry_after\n",
    "                    )\n",
    "                )\n",
    "            else:\n",
    "                # No deps or all deps satisfied\n",
    "                # can schedule now\n",
    "                schedule_task.invoke(dict(task=task, observations=observations))\n",
    "                # futures.append(executor.submit(schedule_task.invoke dict(task=task, observations=observations)))\n",
    "\n",
    "        # All tasks have been submitted or enqueued\n",
    "        # Wait for them to complete\n",
    "        wait(futures)\n",
    "    # Convert observations to new tool messages to add to the state\n",
    "    new_observations = {\n",
    "        k: (task_names[k], args_for_tasks[k], observations[k])\n",
    "        for k in sorted(observations.keys() - originals)\n",
    "    }\n",
    "    tool_messages = [\n",
    "        FunctionMessage(\n",
    "            name=name,\n",
    "            content=str(obs),\n",
    "            additional_kwargs={\"idx\": k, \"args\": task_args},\n",
    "            tool_call_id=k,\n",
    "        )\n",
    "        for k, (name, task_args, obs) in new_observations.items()\n",
    "    ]\n",
    "    return tool_messages"
   ]
  },
  {
   "cell_type": "code",
   "execution_count": null,
   "metadata": {},
   "outputs": [],
   "source": [
    "@as_runnable\n",
    "def plan_and_schedule(state):\n",
    "    messages = state[\"messages\"]\n",
    "    tasks = planner.stream(messages)\n",
    "    # Begin executing the planner immediately\n",
    "    try:\n",
    "        tasks = itertools.chain([next(tasks)], tasks)\n",
    "    except StopIteration:\n",
    "        # Handle the case where tasks is empty.\n",
    "        tasks = iter([])\n",
    "    scheduled_tasks = schedule_tasks.invoke(\n",
    "        {\n",
    "            \"messages\": messages,\n",
    "            \"tasks\": tasks,\n",
    "        }\n",
    "    )\n",
    "    return {\"messages\": scheduled_tasks}"
   ]
  },
  {
   "cell_type": "code",
   "execution_count": null,
   "metadata": {},
   "outputs": [],
   "source": [
    "from langchain_core.messages import AIMessage\n",
    "\n",
    "from pydantic import BaseModel, Field\n",
    "\n",
    "\n",
    "class FinalResponse(BaseModel):\n",
    "    \"\"\"The final response to a user query.\"\"\"\n",
    "    response: str = Field(\n",
    "        description=(\"A detailed, comprehensive and user-centric response to the query, fully derived from the chain of thought reasoning and the provided context. \"\n",
    "                     \"Ensure the response is clear, complete, and addresses all aspects of the query effectively.\"))\n",
    "\n",
    "\n",
    "class Replan(BaseModel):\n",
    "    \"\"\"Suggestions to improve the response generation.\"\"\"\n",
    "    feedback: str = Field(\n",
    "        description=\"Analysis of the previous attempts and recommendations on what needs to be fixed.\"\n",
    "    )\n",
    "\n",
    "\n",
    "class JoinOutputs(BaseModel):\n",
    "    \"\"\"Decide whether to replan or whether you can return the final response.\"\"\"\n",
    "    thought: str = Field(\n",
    "        description=\"The chain of thought reasoning for the selected action, including logical steps and connections between the query and provided context.\"\n",
    "    )\n",
    "    action: Union[FinalResponse, Replan] = Field(description= \"The action to take based on the chain of thought reasoning. It should be either FinalResponse or Replan.\")\n",
    "    \n",
    "\n",
    "#class JoinOutputs_v2(BaseModel):\n",
    "#    \"\"\"Decide whether to replan or you can return the final response.\"\"\"\n",
    "#    thought: str = Field(\n",
    "#        description=\"The chain of thought reasoning for the selected action, including logical steps and connections between the query and provided context.\"\n",
    "#    )\n",
    "#    should_replan: bool = Field(description=\"Whether to replan or not\")\n",
    "#    response: str = Field(\n",
    "#        description=(\"If should_replan is True, response should be analysis of the previous attempts and recommendations on what needs to be fixed.\\n\"\n",
    "#                     \"If should_replan is False, response should be comprehensive and directly informed by the thought process and provided information.\"))"
   ]
  },
  {
   "cell_type": "code",
   "execution_count": null,
   "metadata": {},
   "outputs": [],
   "source": [
    "def _parse_joiner_output(decision: JoinOutputs) -> List[BaseMessage]:\n",
    "    response = [AIMessage(content=f\"Thought: {decision.thought}\")]\n",
    "    if isinstance(decision.action, Replan):\n",
    "        return {\n",
    "            \"messages\": response\n",
    "            + [\n",
    "                SystemMessage(\n",
    "                    content=f\"Context from last attempt: {decision.action.feedback}\"\n",
    "                )\n",
    "            ]\n",
    "        }\n",
    "    else:\n",
    "        return {\"messages\": response + [AIMessage(content=decision.action.response)]}\n",
    "\n",
    "\n",
    "def select_recent_messages(state) -> dict:\n",
    "    messages = state[\"messages\"]\n",
    "    selected = []\n",
    "    for msg in messages[::-1]:\n",
    "        selected.append(msg)\n",
    "        if isinstance(msg, HumanMessage):\n",
    "            break\n",
    "    return {\"messages\": selected[::-1]}"
   ]
  },
  {
   "cell_type": "code",
   "execution_count": null,
   "metadata": {},
   "outputs": [
    {
     "name": "stdout",
     "output_type": "stream",
     "text": [
      "name='retrieve_and_answer' description='retrieve_and_answer(query=\"the search query\") - This tool retrieves relevant information from a vector store containing insomnia-related data. \\nBased on the retrieved information, it generates a precise answer to the user\\'s query. The tool is designed to handle various types of questions, from simple factual queries to more complex, multi-hop inquiries, by leveraging both dense and sparse vectors for optimal retrieval performance.' args_schema=<class 'langchain_core.utils.pydantic.retrieve_and_answer'> func=<function retrieve_and_answer at 0x7c1b2b423ce0> {'query': 'common causes of insomnia in teenagers'}\n",
      "---\n",
      "name='retrieve_and_answer' description='retrieve_and_answer(query=\"the search query\") - This tool retrieves relevant information from a vector store containing insomnia-related data. \\nBased on the retrieved information, it generates a precise answer to the user\\'s query. The tool is designed to handle various types of questions, from simple factual queries to more complex, multi-hop inquiries, by leveraging both dense and sparse vectors for optimal retrieval performance.' args_schema=<class 'langchain_core.utils.pydantic.retrieve_and_answer'> func=<function retrieve_and_answer at 0x7c1b2b423ce0> {'query': 'does caffeine cause insomnia in teenagers'}\n",
      "---\n",
      "join ()\n",
      "---\n",
      "==============================\n"
     ]
    },
    {
     "name": "stderr",
     "output_type": "stream",
     "text": [
      "Failed to use model_dump to serialize <class 'langchain_core.tools.structured.StructuredTool'> to JSON: PydanticSerializationError(Unable to serialize unknown type: <class 'pydantic._internal._model_construction.ModelMetaclass'>)\n",
      "Failed to use model_dump to serialize <class 'langchain_core.tools.structured.StructuredTool'> to JSON: PydanticSerializationError(Unable to serialize unknown type: <class 'pydantic._internal._model_construction.ModelMetaclass'>)\n",
      "Failed to use model_dump to serialize <class 'langchain_core.tools.structured.StructuredTool'> to JSON: PydanticSerializationError(Unable to serialize unknown type: <class 'pydantic._internal._model_construction.ModelMetaclass'>)\n",
      "Failed to use model_dump to serialize <class 'langchain_core.tools.structured.StructuredTool'> to JSON: PydanticSerializationError(Unable to serialize unknown type: <class 'pydantic._internal._model_construction.ModelMetaclass'>)\n"
     ]
    },
    {
     "data": {
      "text/plain": [
       "[FunctionMessage(content='content=\"Based on the provided context, several common causes of insomnia in teenagers can be identified:\\\\n\\\\n1. **Caffeine consumption**: Consuming caffeinated beverages, especially energy drinks, can lead to insomnia in teenagers. Caffeine can disrupt sleep patterns and make it difficult to fall asleep (Source: CHUNK 2).\\\\n2. **Stress and anxiety**: Stress and anxiety can contribute to insomnia in teenagers. This can be due to various factors such as academic pressure, social relationships, or emotional distress (Source: CHUNK 2 and CHUNK 4).\\\\n3. **Depression**: Depression is a common comorbidity with insomnia in teenagers. Insomnia symptoms can trigger depressive symptoms, and vice versa (Source: CHUNK 1 and CHUNK 4).\\\\n4. **Non-suicidal self-injury (NSSI)**: There is a bidirectional link between insomnia symptoms and NSSI in teenagers. Insomnia can contribute to the development of NSSI, and NSSI can also exacerbate insomnia symptoms (Source: CHUNK 1 and CHUNK 4).\\\\n5. **Hyperarousal**: Hyperarousal, or an increased state of alertness, can contribute to insomnia in teenagers. This can be due to various factors such as stress, anxiety, or caffeine consumption (Source: CHUNK 1 and CHUNK 4).\\\\n6. **Emotional regulation issues**: Teenagers with emotional regulation issues, such as difficulty managing negative emotions, may be more prone to insomnia (Source: CHUNK 4).\\\\n7. **Lifestyle factors**: Irregular sleep schedules, lack of physical activity, and excessive screen time can also contribute to insomnia in teenagers (not explicitly mentioned in the provided context, but a common understanding of insomnia causes).\\\\n\\\\nIt\\'s essential to note that these causes can interact with each other and with individual factors, such as personality traits and coping mechanisms, to contribute to insomnia in teenagers.\" additional_kwargs={} response_metadata={\\'token_usage\\': {\\'completion_tokens\\': 380, \\'prompt_tokens\\': 2490, \\'total_tokens\\': 2870, \\'completion_time\\': 1.52, \\'prompt_time\\': 0.425800555, \\'queue_time\\': 0.004141502999999991, \\'total_time\\': 1.945800555}, \\'model_name\\': \\'llama-3.1-70b-versatile\\', \\'system_fingerprint\\': \\'fp_9260b4bb2e\\', \\'finish_reason\\': \\'stop\\', \\'logprobs\\': None} id=\\'run-8d39c403-e6f0-4257-a660-24985a016d90-0\\' usage_metadata={\\'input_tokens\\': 2490, \\'output_tokens\\': 380, \\'total_tokens\\': 2870}', additional_kwargs={'idx': 1, 'args': {'query': 'common causes of insomnia in teenagers'}}, response_metadata={}, name='retrieve_and_answer', tool_call_id=1),\n",
       " FunctionMessage(content=\"content='According to the provided context, there is evidence to suggest that caffeine consumption can contribute to insomnia in teenagers. \\\\n\\\\nIn CHUNK 1, a study of Icelandic children (10-12 years) found that stomach pains, headaches, and insomnia were more common among energy drink consumers. Additionally, Park and coworkers reported that energy drink consumption was significantly correlated with poor sleep, increased stress, depression, and suicidal thoughts in adolescents (12-18 years).\\\\n\\\\nIn CHUNK 2, a study on the impact of daily caffeine intake and timing on electroencephalogram-measured sleep in adolescents found that caffeine consumption was associated with reduced REM sleep and increased sleep onset latency (SOL). This suggests that caffeine can disrupt sleep patterns in adolescents, potentially leading to insomnia.\\\\n\\\\nIn CHUNK 4, it is mentioned that high caffeine intake may be particularly harmful to adolescent sleep health, contributing to insufficient sleep, including shorter duration, increased wake after sleep onset, and more difficulty falling or staying asleep.\\\\n\\\\nOverall, the evidence suggests that caffeine consumption can contribute to insomnia in teenagers, likely due to its stimulant effects and ability to disrupt sleep patterns.' additional_kwargs={} response_metadata={'token_usage': {'completion_tokens': 224, 'prompt_tokens': 2435, 'total_tokens': 2659, 'completion_time': 0.896, 'prompt_time': 0.486896432, 'queue_time': 0.00360131800000002, 'total_time': 1.382896432}, 'model_name': 'llama-3.1-70b-versatile', 'system_fingerprint': 'fp_9260b4bb2e', 'finish_reason': 'stop', 'logprobs': None} id='run-e135a201-b4d9-4427-90df-bd9f11c622e2-0' usage_metadata={'input_tokens': 2435, 'output_tokens': 224, 'total_tokens': 2659}\", additional_kwargs={'idx': 2, 'args': {'query': 'does caffeine cause insomnia in teenagers'}}, response_metadata={}, name='retrieve_and_answer', tool_call_id=2),\n",
       " FunctionMessage(content='join', additional_kwargs={'idx': 3, 'args': ()}, response_metadata={}, name='join', tool_call_id=3)]"
      ]
     },
     "execution_count": 12,
     "metadata": {},
     "output_type": "execute_result"
    }
   ],
   "source": [
    "query = \"Tell me common causes of insomnia in teenagers. Does caffeine one of them?\"\n",
    "\n",
    "for task in planner.stream([HumanMessage(content = query)]):\n",
    "    print(task[\"tool\"], task[\"args\"])\n",
    "    print(\"---\")\n",
    "\n",
    "print('='*30)\n",
    "\n",
    "tool_messages = plan_and_schedule.invoke({\"messages\": [HumanMessage(content=query)]})['messages']\n",
    "tool_messages"
   ]
  },
  {
   "cell_type": "code",
   "execution_count": null,
   "metadata": {},
   "outputs": [],
   "source": [
    "runnable = joiner_prompt | llm.with_structured_output(JoinOutputs)\n",
    "joiner = select_recent_messages | runnable | _parse_joiner_output"
   ]
  },
  {
   "cell_type": "code",
   "execution_count": null,
   "metadata": {},
   "outputs": [],
   "source": [
    "res = joiner.invoke({\"messages\": [HumanMessage(content = query)] + tool_messages})"
   ]
  },
  {
   "cell_type": "code",
   "execution_count": null,
   "metadata": {},
   "outputs": [
    {
     "data": {
      "text/plain": [
       "{'messages': [AIMessage(content='Thought: Based on the provided context, several common causes of insomnia in teenagers can be identified, including caffeine consumption, stress and anxiety, depression, non-suicidal self-injury (NSSI), hyperarousal, emotional regulation issues, and lifestyle factors. Caffeine consumption is one of the causes of insomnia in teenagers.', additional_kwargs={}, response_metadata={}),\n",
       "  AIMessage(content='Caffeine consumption is one of the causes of insomnia in teenagers. Other causes include stress and anxiety, depression, non-suicidal self-injury (NSSI), hyperarousal, emotional regulation issues, and lifestyle factors.', additional_kwargs={}, response_metadata={})]}"
      ]
     },
     "execution_count": 15,
     "metadata": {},
     "output_type": "execute_result"
    }
   ],
   "source": [
    "res"
   ]
  },
  {
   "cell_type": "code",
   "execution_count": null,
   "metadata": {},
   "outputs": [],
   "source": []
  },
  {
   "cell_type": "code",
   "execution_count": null,
   "metadata": {},
   "outputs": [],
   "source": [
    "from langgraph.graph import END, StateGraph, START\n",
    "from langgraph.graph.message import add_messages\n",
    "from typing import Annotated\n",
    "from langgraph.checkpoint.memory import MemorySaver\n",
    "\n",
    "\n",
    "class State(TypedDict):\n",
    "    messages: Annotated[list, add_messages]\n",
    "\n",
    "\n",
    "graph_builder = StateGraph(State)\n",
    "\n",
    "# 1.  Define vertices\n",
    "# We defined plan_and_schedule above already\n",
    "# Assign each node to a state variable to update\n",
    "graph_builder.add_node(\"plan_and_schedule\", plan_and_schedule)\n",
    "graph_builder.add_node(\"join\", joiner)\n",
    "\n",
    "\n",
    "## Define edges\n",
    "graph_builder.add_edge(\"plan_and_schedule\", \"join\")\n",
    "\n",
    "### This condition determines looping logic\n",
    "\n",
    "\n",
    "def should_continue(state):\n",
    "    messages = state[\"messages\"]\n",
    "    if isinstance(messages[-1], AIMessage):\n",
    "        return END\n",
    "    return \"plan_and_schedule\"\n",
    "\n",
    "\n",
    "graph_builder.add_conditional_edges(\n",
    "    \"join\",\n",
    "    # Next, we pass in the function that will determine which node is called next.\n",
    "    should_continue,\n",
    ")\n",
    "graph_builder.add_edge(START, \"plan_and_schedule\")\n",
    "chain = graph_builder.compile(checkpointer=MemorySaver(), interrupt_before=[\"join\"])"
   ]
  },
  {
   "cell_type": "code",
   "execution_count": null,
   "metadata": {},
   "outputs": [
    {
     "data": {
      "image/jpeg": "[encoded data removed]",
      "text/plain": [
       "<IPython.core.display.Image object>"
      ]
     },
     "metadata": {},
     "output_type": "display_data"
    }
   ],
   "source": [
    "from IPython.display import Image, display\n",
    "\n",
    "try:\n",
    "    display(Image(chain.get_graph().draw_mermaid_png()))\n",
    "except Exception:\n",
    "    # This requires some extra dependencies and is optional\n",
    "    pass"
   ]
  },
  {
   "cell_type": "code",
   "execution_count": null,
   "metadata": {},
   "outputs": [],
   "source": [
    "config = {\"configurable\": {\"thread_id\": \"0\"}}"
   ]
  },
  {
   "cell_type": "code",
   "execution_count": null,
   "metadata": {},
   "outputs": [
    {
     "name": "stderr",
     "output_type": "stream",
     "text": [
      "Failed to use model_dump to serialize <class 'langchain_core.tools.structured.StructuredTool'> to JSON: PydanticSerializationError(Unable to serialize unknown type: <class 'pydantic._internal._model_construction.ModelMetaclass'>)\n",
      "Failed to use model_dump to serialize <class 'langchain_core.tools.structured.StructuredTool'> to JSON: PydanticSerializationError(Unable to serialize unknown type: <class 'pydantic._internal._model_construction.ModelMetaclass'>)\n",
      "Failed to use model_dump to serialize <class 'langchain_core.tools.structured.StructuredTool'> to JSON: PydanticSerializationError(Unable to serialize unknown type: <class 'pydantic._internal._model_construction.ModelMetaclass'>)\n",
      "Failed to use model_dump to serialize <class 'langchain_core.tools.structured.StructuredTool'> to JSON: PydanticSerializationError(Unable to serialize unknown type: <class 'pydantic._internal._model_construction.ModelMetaclass'>)\n"
     ]
    },
    {
     "name": "stdout",
     "output_type": "stream",
     "text": [
      "{'plan_and_schedule': {'messages': [FunctionMessage(content='content=\"Based on the provided context, some common causes of insomnia in teenagers include:\\\\n\\\\n1. **Caffeine consumption**: Excessive caffeine consumption, especially in the form of energy drinks (EDs), has been linked to insomnia in teenagers. Caffeine can disrupt sleep patterns and make it difficult to fall asleep.\\\\n2. **Electronic device use**: Although not explicitly mentioned in the context, it\\'s a well-known fact that exposure to screens and electronic devices before bedtime can interfere with sleep.\\\\n3. **Stress and anxiety**: Stress and anxiety can lead to insomnia in teenagers. This is often related to academic pressures, social relationships, and other emotional challenges.\\\\n4. **Depression**: Depression is a common comorbidity with insomnia in teenagers. The context suggests that depressive symptoms can be both a cause and a consequence of insomnia.\\\\n5. **Lifestyle factors**: Irregular sleep schedules, lack of physical activity, and poor sleep hygiene can contribute to insomnia in teenagers.\\\\n6. **Substance abuse**: The context mentions that energy drink consumption is associated with increased soft drug use, which can also contribute to insomnia.\\\\n7. **Sensation-seeking behavior**: The context suggests that sensation-seeking behavior, which is common in teenagers, can be linked to insomnia.\\\\n\\\\nIt\\'s essential to note that these causes can interact with each other and with individual factors, such as personality traits and coping mechanisms, to contribute to insomnia in teenagers.\" additional_kwargs={} response_metadata={\\'token_usage\\': {\\'completion_tokens\\': 285, \\'prompt_tokens\\': 2490, \\'total_tokens\\': 2775, \\'completion_time\\': 1.1400000000000001, \\'prompt_time\\': 0.438949837, \\'queue_time\\': 0.0038095719999999833, \\'total_time\\': 1.5789498370000001}, \\'model_name\\': \\'llama-3.1-70b-versatile\\', \\'system_fingerprint\\': \\'fp_9260b4bb2e\\', \\'finish_reason\\': \\'stop\\', \\'logprobs\\': None} id=\\'run-f0d979b8-11bd-4497-a0fa-2af255a6240e-0\\' usage_metadata={\\'input_tokens\\': 2490, \\'output_tokens\\': 285, \\'total_tokens\\': 2775}', additional_kwargs={'idx': 1, 'args': {'query': 'common causes of insomnia in teenagers'}}, response_metadata={}, name='retrieve_and_answer', id='f775cdf7-7ee8-48b1-9d7f-36b8bf7e4e7a', tool_call_id=1), FunctionMessage(content='content=\\'According to the provided context, caffeine consumption has been linked to insomnia in teenagers. Studies have shown that high caffeine intake can contribute to insufficient sleep among adolescents, including shorter duration, increased wake after sleep onset, and more difficulty falling or staying asleep.\\\\n\\\\nOne study found that the \"Heavy Evening\" pattern of caffeine consumption was associated with decreased REM (rapid eye movement) sleep in adolescents, which is concerning given the importance of REM sleep to cognitive and psychological well-being during adolescence.\\\\n\\\\nAdditionally, another study reported that energy drink consumption, which often contains high levels of caffeine, was associated with insomnia, as well as other negative health and behavioral outcomes, such as headaches, sleep disturbances, and fatigue.\\\\n\\\\nIt\\\\\\'s worth noting that the timing of caffeine consumption may also play a role in its impact on sleep. Afternoon and evening consumption may be particularly detrimental to sleep, while morning use may have a different effect.\\\\n\\\\nOverall, the evidence suggests that caffeine consumption can contribute to insomnia in teenagers, and that parents, caregivers, and healthcare providers should be aware of the potential risks and take steps to promote healthy sleep habits in adolescents.\\' additional_kwargs={} response_metadata={\\'token_usage\\': {\\'completion_tokens\\': 222, \\'prompt_tokens\\': 1870, \\'total_tokens\\': 2092, \\'completion_time\\': 0.888, \\'prompt_time\\': 0.3258234, \\'queue_time\\': 0.003879789999999994, \\'total_time\\': 1.2138233999999999}, \\'model_name\\': \\'llama-3.1-70b-versatile\\', \\'system_fingerprint\\': \\'fp_b6828be2c9\\', \\'finish_reason\\': \\'stop\\', \\'logprobs\\': None} id=\\'run-0263277a-c70f-49a5-9b03-17baddeb4be0-0\\' usage_metadata={\\'input_tokens\\': 1870, \\'output_tokens\\': 222, \\'total_tokens\\': 2092}', additional_kwargs={'idx': 2, 'args': {'query': 'does caffeine cause insomnia in teenagers'}}, response_metadata={}, name='retrieve_and_answer', id='014ddaf9-5b92-4211-8fd8-fc5ce6243ef4', tool_call_id=2), FunctionMessage(content='join', additional_kwargs={'idx': 3, 'args': ()}, response_metadata={}, name='join', id='77844bdd-0c66-45ec-a25d-159717b63a6b', tool_call_id=3)]}}\n",
      "{'__interrupt__': ()}\n"
     ]
    }
   ],
   "source": [
    "for event in chain.stream({\"messages\": [HumanMessage(content=query)]}, config=config):\n",
    "    print(event)"
   ]
  },
  {
   "cell_type": "code",
   "execution_count": null,
   "metadata": {},
   "outputs": [
    {
     "data": {
      "text/plain": [
       "{'messages': [HumanMessage(content='Tell me common causes of insomnia in teenagers. Does caffeine one of them?', additional_kwargs={}, response_metadata={}, id='73401211-70c3-4d31-a022-5da4e18bed17'),\n",
       "  FunctionMessage(content='content=\"Based on the provided context, some common causes of insomnia in teenagers include:\\\\n\\\\n1. **Caffeine consumption**: Excessive caffeine consumption, especially in the form of energy drinks (EDs), has been linked to insomnia in teenagers. Caffeine can disrupt sleep patterns and make it difficult to fall asleep.\\\\n2. **Electronic device use**: Although not explicitly mentioned in the context, it\\'s a well-known fact that exposure to screens and electronic devices before bedtime can interfere with sleep.\\\\n3. **Stress and anxiety**: Stress and anxiety can lead to insomnia in teenagers. This is often related to academic pressures, social relationships, and other emotional challenges.\\\\n4. **Depression**: Depression is a common comorbidity with insomnia in teenagers. The context suggests that depressive symptoms can be both a cause and a consequence of insomnia.\\\\n5. **Lifestyle factors**: Irregular sleep schedules, lack of physical activity, and poor sleep hygiene can contribute to insomnia in teenagers.\\\\n6. **Substance abuse**: The context mentions that energy drink consumption is associated with increased soft drug use, which can also contribute to insomnia.\\\\n7. **Sensation-seeking behavior**: The context suggests that sensation-seeking behavior, which is common in teenagers, can be linked to insomnia.\\\\n\\\\nIt\\'s essential to note that these causes can interact with each other and with individual factors, such as personality traits and coping mechanisms, to contribute to insomnia in teenagers.\" additional_kwargs={} response_metadata={\\'token_usage\\': {\\'completion_tokens\\': 285, \\'prompt_tokens\\': 2490, \\'total_tokens\\': 2775, \\'completion_time\\': 1.1400000000000001, \\'prompt_time\\': 0.438949837, \\'queue_time\\': 0.0038095719999999833, \\'total_time\\': 1.5789498370000001}, \\'model_name\\': \\'llama-3.1-70b-versatile\\', \\'system_fingerprint\\': \\'fp_9260b4bb2e\\', \\'finish_reason\\': \\'stop\\', \\'logprobs\\': None} id=\\'run-f0d979b8-11bd-4497-a0fa-2af255a6240e-0\\' usage_metadata={\\'input_tokens\\': 2490, \\'output_tokens\\': 285, \\'total_tokens\\': 2775}', additional_kwargs={'idx': 1, 'args': {'query': 'common causes of insomnia in teenagers'}}, response_metadata={}, name='retrieve_and_answer', id='f775cdf7-7ee8-48b1-9d7f-36b8bf7e4e7a', tool_call_id=1),\n",
       "  FunctionMessage(content='content=\\'According to the provided context, caffeine consumption has been linked to insomnia in teenagers. Studies have shown that high caffeine intake can contribute to insufficient sleep among adolescents, including shorter duration, increased wake after sleep onset, and more difficulty falling or staying asleep.\\\\n\\\\nOne study found that the \"Heavy Evening\" pattern of caffeine consumption was associated with decreased REM (rapid eye movement) sleep in adolescents, which is concerning given the importance of REM sleep to cognitive and psychological well-being during adolescence.\\\\n\\\\nAdditionally, another study reported that energy drink consumption, which often contains high levels of caffeine, was associated with insomnia, as well as other negative health and behavioral outcomes, such as headaches, sleep disturbances, and fatigue.\\\\n\\\\nIt\\\\\\'s worth noting that the timing of caffeine consumption may also play a role in its impact on sleep. Afternoon and evening consumption may be particularly detrimental to sleep, while morning use may have a different effect.\\\\n\\\\nOverall, the evidence suggests that caffeine consumption can contribute to insomnia in teenagers, and that parents, caregivers, and healthcare providers should be aware of the potential risks and take steps to promote healthy sleep habits in adolescents.\\' additional_kwargs={} response_metadata={\\'token_usage\\': {\\'completion_tokens\\': 222, \\'prompt_tokens\\': 1870, \\'total_tokens\\': 2092, \\'completion_time\\': 0.888, \\'prompt_time\\': 0.3258234, \\'queue_time\\': 0.003879789999999994, \\'total_time\\': 1.2138233999999999}, \\'model_name\\': \\'llama-3.1-70b-versatile\\', \\'system_fingerprint\\': \\'fp_b6828be2c9\\', \\'finish_reason\\': \\'stop\\', \\'logprobs\\': None} id=\\'run-0263277a-c70f-49a5-9b03-17baddeb4be0-0\\' usage_metadata={\\'input_tokens\\': 1870, \\'output_tokens\\': 222, \\'total_tokens\\': 2092}', additional_kwargs={'idx': 2, 'args': {'query': 'does caffeine cause insomnia in teenagers'}}, response_metadata={}, name='retrieve_and_answer', id='014ddaf9-5b92-4211-8fd8-fc5ce6243ef4', tool_call_id=2),\n",
       "  FunctionMessage(content='join', additional_kwargs={'idx': 3, 'args': []}, response_metadata={}, name='join', id='77844bdd-0c66-45ec-a25d-159717b63a6b', tool_call_id=3)]}"
      ]
     },
     "execution_count": 22,
     "metadata": {},
     "output_type": "execute_result"
    }
   ],
   "source": [
    "chain.get_state(config).values"
   ]
  },
  {
   "cell_type": "code",
   "execution_count": null,
   "metadata": {},
   "outputs": [
    {
     "name": "stdout",
     "output_type": "stream",
     "text": [
      "{'join': {'messages': [AIMessage(content='Thought: Based on the provided context, caffeine consumption has been linked to insomnia in teenagers. Studies have shown that high caffeine intake can contribute to insufficient sleep among adolescents, including shorter duration, increased wake after sleep onset, and more difficulty falling or staying asleep.', additional_kwargs={}, response_metadata={}, id='b2564d39-9e9a-46ad-9534-1eef601b13b6'), AIMessage(content='Yes, caffeine is one of the common causes of insomnia in teenagers.', additional_kwargs={}, response_metadata={}, id='4ed42e7e-8ed8-48bb-baf3-1b8943108994')]}}\n"
     ]
    }
   ],
   "source": [
    "for event in chain.stream(None, config=config):\n",
    "    print(event)"
   ]
  },
  {
   "cell_type": "code",
   "execution_count": null,
   "metadata": {},
   "outputs": [
    {
     "data": {
      "text/plain": [
       "{'messages': [HumanMessage(content='Tell me common causes of insomnia in teenagers. Does caffeine one of them?', additional_kwargs={}, response_metadata={}, id='73401211-70c3-4d31-a022-5da4e18bed17'),\n",
       "  FunctionMessage(content='content=\"Based on the provided context, some common causes of insomnia in teenagers include:\\\\n\\\\n1. **Caffeine consumption**: Excessive caffeine consumption, especially in the form of energy drinks (EDs), has been linked to insomnia in teenagers. Caffeine can disrupt sleep patterns and make it difficult to fall asleep.\\\\n2. **Electronic device use**: Although not explicitly mentioned in the context, it\\'s a well-known fact that exposure to screens and electronic devices before bedtime can interfere with sleep.\\\\n3. **Stress and anxiety**: Stress and anxiety can lead to insomnia in teenagers. This is often related to academic pressures, social relationships, and other emotional challenges.\\\\n4. **Depression**: Depression is a common comorbidity with insomnia in teenagers. The context suggests that depressive symptoms can be both a cause and a consequence of insomnia.\\\\n5. **Lifestyle factors**: Irregular sleep schedules, lack of physical activity, and poor sleep hygiene can contribute to insomnia in teenagers.\\\\n6. **Substance abuse**: The context mentions that energy drink consumption is associated with increased soft drug use, which can also contribute to insomnia.\\\\n7. **Sensation-seeking behavior**: The context suggests that sensation-seeking behavior, which is common in teenagers, can be linked to insomnia.\\\\n\\\\nIt\\'s essential to note that these causes can interact with each other and with individual factors, such as personality traits and coping mechanisms, to contribute to insomnia in teenagers.\" additional_kwargs={} response_metadata={\\'token_usage\\': {\\'completion_tokens\\': 285, \\'prompt_tokens\\': 2490, \\'total_tokens\\': 2775, \\'completion_time\\': 1.1400000000000001, \\'prompt_time\\': 0.438949837, \\'queue_time\\': 0.0038095719999999833, \\'total_time\\': 1.5789498370000001}, \\'model_name\\': \\'llama-3.1-70b-versatile\\', \\'system_fingerprint\\': \\'fp_9260b4bb2e\\', \\'finish_reason\\': \\'stop\\', \\'logprobs\\': None} id=\\'run-f0d979b8-11bd-4497-a0fa-2af255a6240e-0\\' usage_metadata={\\'input_tokens\\': 2490, \\'output_tokens\\': 285, \\'total_tokens\\': 2775}', additional_kwargs={'idx': 1, 'args': {'query': 'common causes of insomnia in teenagers'}}, response_metadata={}, name='retrieve_and_answer', id='f775cdf7-7ee8-48b1-9d7f-36b8bf7e4e7a', tool_call_id=1),\n",
       "  FunctionMessage(content='content=\\'According to the provided context, caffeine consumption has been linked to insomnia in teenagers. Studies have shown that high caffeine intake can contribute to insufficient sleep among adolescents, including shorter duration, increased wake after sleep onset, and more difficulty falling or staying asleep.\\\\n\\\\nOne study found that the \"Heavy Evening\" pattern of caffeine consumption was associated with decreased REM (rapid eye movement) sleep in adolescents, which is concerning given the importance of REM sleep to cognitive and psychological well-being during adolescence.\\\\n\\\\nAdditionally, another study reported that energy drink consumption, which often contains high levels of caffeine, was associated with insomnia, as well as other negative health and behavioral outcomes, such as headaches, sleep disturbances, and fatigue.\\\\n\\\\nIt\\\\\\'s worth noting that the timing of caffeine consumption may also play a role in its impact on sleep. Afternoon and evening consumption may be particularly detrimental to sleep, while morning use may have a different effect.\\\\n\\\\nOverall, the evidence suggests that caffeine consumption can contribute to insomnia in teenagers, and that parents, caregivers, and healthcare providers should be aware of the potential risks and take steps to promote healthy sleep habits in adolescents.\\' additional_kwargs={} response_metadata={\\'token_usage\\': {\\'completion_tokens\\': 222, \\'prompt_tokens\\': 1870, \\'total_tokens\\': 2092, \\'completion_time\\': 0.888, \\'prompt_time\\': 0.3258234, \\'queue_time\\': 0.003879789999999994, \\'total_time\\': 1.2138233999999999}, \\'model_name\\': \\'llama-3.1-70b-versatile\\', \\'system_fingerprint\\': \\'fp_b6828be2c9\\', \\'finish_reason\\': \\'stop\\', \\'logprobs\\': None} id=\\'run-0263277a-c70f-49a5-9b03-17baddeb4be0-0\\' usage_metadata={\\'input_tokens\\': 1870, \\'output_tokens\\': 222, \\'total_tokens\\': 2092}', additional_kwargs={'idx': 2, 'args': {'query': 'does caffeine cause insomnia in teenagers'}}, response_metadata={}, name='retrieve_and_answer', id='014ddaf9-5b92-4211-8fd8-fc5ce6243ef4', tool_call_id=2),\n",
       "  FunctionMessage(content='join', additional_kwargs={'idx': 3, 'args': []}, response_metadata={}, name='join', id='77844bdd-0c66-45ec-a25d-159717b63a6b', tool_call_id=3),\n",
       "  AIMessage(content='Thought: Based on the provided context, caffeine consumption has been linked to insomnia in teenagers. Studies have shown that high caffeine intake can contribute to insufficient sleep among adolescents, including shorter duration, increased wake after sleep onset, and more difficulty falling or staying asleep.', additional_kwargs={}, response_metadata={}, id='b2564d39-9e9a-46ad-9534-1eef601b13b6'),\n",
       "  AIMessage(content='Yes, caffeine is one of the common causes of insomnia in teenagers.', additional_kwargs={}, response_metadata={}, id='4ed42e7e-8ed8-48bb-baf3-1b8943108994')]}"
      ]
     },
     "execution_count": 24,
     "metadata": {},
     "output_type": "execute_result"
    }
   ],
   "source": [
    "chain.get_state(config).values"
   ]
  },
  {
   "cell_type": "code",
   "execution_count": null,
   "metadata": {},
   "outputs": [
    {
     "data": {
      "text/plain": [
       "{'messages': [AIMessage(content='Thought: Based on the provided context, several common causes of insomnia in teenagers can be identified, including caffeine consumption, stress and anxiety, depression, non-suicidal self-injury (NSSI), hyperarousal, emotional regulation issues, and lifestyle factors. Caffeine consumption is one of the causes of insomnia in teenagers.', additional_kwargs={}, response_metadata={}),\n",
       "  AIMessage(content='Caffeine consumption is one of the causes of insomnia in teenagers. Other causes include stress and anxiety, depression, non-suicidal self-injury (NSSI), hyperarousal, emotional regulation issues, and lifestyle factors.', additional_kwargs={}, response_metadata={})]}"
      ]
     },
     "execution_count": 25,
     "metadata": {},
     "output_type": "execute_result"
    }
   ],
   "source": [
    "res"
   ]
  },
  {
   "cell_type": "code",
   "execution_count": null,
   "metadata": {},
   "outputs": [],
   "source": []
  }
 ],
 "metadata": {
  "kernelspec": {
   "display_name": "insomnia_chatbot_v2",
   "language": "python",
   "name": "python3"
  },
  "language_info": {
   "codemirror_mode": {
    "name": "ipython",
    "version": 3
   },
   "file_extension": ".py",
   "mimetype": "text/x-python",
   "name": "python",
   "nbconvert_exporter": "python",
   "pygments_lexer": "ipython3",
   "version": "3.11.10"
  }
 },
 "nbformat": 4,
 "nbformat_minor": 2
}
